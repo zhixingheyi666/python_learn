{
 "cells": [
  {
   "cell_type": "code",
   "execution_count": 1,
   "metadata": {
    "collapsed": true
   },
   "outputs": [],
   "source": [
    "import asyncio, os, json, time\n",
    "from datetime import datetime\n",
    "\n",
    "from aiohttp import web"
   ]
  },
  {
   "cell_type": "code",
   "execution_count": 2,
   "metadata": {
    "collapsed": true
   },
   "outputs": [],
   "source": [
    "#为自定义的模块添加搜索路径\n",
    "import sys\n",
    "sysFc = 'D:\\\\python_learn\\\\sysFc'\n",
    "sys.path.append(sysFc)"
   ]
  },
  {
   "cell_type": "code",
   "execution_count": 3,
   "metadata": {},
   "outputs": [
    {
     "name": "stderr",
     "output_type": "stream",
     "text": [
      "Set level\n",
      "'DEBUG' ----> Basic log level\n",
      "\n",
      "Set level\n",
      "'DEBUG' ----> Log FileHandler\n",
      "\n",
      "SF:     Using ---> crLog(level = ('DEBUG','DEBUG','INFO'), fname = 'D:\\\\桌面\\\\Log-test.log', head = 'SF', ifile = True, cls = False)\n",
      "\n",
      "\n",
      "SF:     Succeed\n"
     ]
    }
   ],
   "source": [
    "from logSf10 import crLog\n",
    "logger = crLog()\n",
    "logger.info('Succeed')"
   ]
  },
  {
   "cell_type": "code",
   "execution_count": 4,
   "metadata": {
    "collapsed": true
   },
   "outputs": [],
   "source": [
    "def index(request):\n",
    "    return web.Response(body = b'<h1>Code Out! Come on Baby</h1>')"
   ]
  },
  {
   "cell_type": "code",
   "execution_count": null,
   "metadata": {
    "collapsed": true
   },
   "outputs": [],
   "source": [
    "@asyncio.coroutine\n",
    "def init(loop):\n",
    "    app = web.Application(loop = loop)\n",
    "    app.router.add_route('GET', '/', index)\n",
    "    srv = yield from loop.create_server(app.make_handler(), '127.0.0.1', 9999)\n",
    "    logger.info('Server started at http://127.0.0.1:9999...')\n",
    "    return srv"
   ]
  },
  {
   "cell_type": "code",
   "execution_count": null,
   "metadata": {},
   "outputs": [
    {
     "name": "stderr",
     "output_type": "stream",
     "text": [
      "SF:     Server started at http://127.0.0.1:9999...\n"
     ]
    }
   ],
   "source": [
    "loop = asyncio.get_event_loop()\n",
    "loop.run_until_complete(init(loop))\n",
    "loop.run_forever()\n",
    "\n"
   ]
  }
 ],
 "metadata": {
  "kernelspec": {
   "display_name": "Python 3",
   "language": "python",
   "name": "python3"
  },
  "language_info": {
   "codemirror_mode": {
    "name": "ipython",
    "version": 3
   },
   "file_extension": ".py",
   "mimetype": "text/x-python",
   "name": "python",
   "nbconvert_exporter": "python",
   "pygments_lexer": "ipython3",
   "version": "3.4.4"
  },
  "toc": {
   "colors": {
    "hover_highlight": "#DAA520",
    "navigate_num": "#000000",
    "navigate_text": "#333333",
    "running_highlight": "#FF0000",
    "selected_highlight": "#FFD700",
    "sidebar_border": "#EEEEEE",
    "wrapper_background": "#FFFFFF"
   },
   "moveMenuLeft": true,
   "nav_menu": {
    "height": "3px",
    "width": "253px"
   },
   "navigate_menu": true,
   "number_sections": true,
   "sideBar": true,
   "threshold": 4,
   "toc_cell": false,
   "toc_section_display": "block",
   "toc_window_display": false,
   "widenNotebook": false
  }
 },
 "nbformat": 4,
 "nbformat_minor": 2
}
