{
 "cells": [
  {
   "cell_type": "code",
   "execution_count": 2,
   "metadata": {
    "collapsed": true
   },
   "outputs": [
    {
     "name": "stderr",
     "output_type": "stream",
     "text": [
      "Set level\n",
      "'DEBUG' ----> Basic log level\n",
      "\n",
      "Set level\n",
      "'DEBUG' ----> Log FileHandler\n",
      "\n",
      "SF:     Using ---> crLog(level = ('DEBUG','DEBUG','INFO'), fname = 'D:\\\\桌面\\\\Log-test.log', head = 'SF', ifile = True, cls = False)\n",
      "\n",
      "\n"
     ]
    }
   ],
   "source": [
    "import asyncio, aiomysql\n",
    "import sys\n",
    "sysFc = 'D:\\\\python_learn\\\\sysFc'\n",
    "sys.path.append(sysFc)\n",
    "from logSf10 import crLog\n",
    "logger = crLog()"
   ]
  },
  {
   "cell_type": "code",
   "execution_count": 3,
   "metadata": {
    "collapsed": true
   },
   "outputs": [],
   "source": [
    "@asyncio.coroutine\n",
    "def creat_pool(loop, **kw):\n",
    "    logger.info('Create database connction pool...')\n",
    "    global __pool\n",
    "    __pool = yield from aiomysql.create_pool(\n",
    "        host = kw.get('host','localhost'),\n",
    "        port = kw.get('port',3306),\n",
    "        user = kw['user'],\n",
    "        password = kw['password'],\n",
    "        db = kw[db],\n",
    "        charset = kw.get('charset','utf-8'),\n",
    "        autocommit = kw.get('autocommit',True),\n",
    "        maxsize = kw.get('maxsize',10),\n",
    "        minsize = kw.get('minsize',1),\n",
    "        loop = loop\n",
    "    )"
   ]
  },
  {
   "cell_type": "code",
   "execution_count": 4,
   "metadata": {
    "collapsed": true
   },
   "outputs": [],
   "source": [
    "@asyncio.coroutine\n",
    "def select( sql, args, size = None):\n",
    "    log(sql, args)\n",
    "    global __pool\n",
    "    with (yield from __pool ) as conn:\n",
    "        cur = yield from conn.cursor( aiomysql.DictCursor )\n",
    "        yield from cur.execute(sql.replace('?', '%s'), args or ())\n",
    "        if size:\n",
    "            rs = yield from cur.fetchmany(size)\n",
    "        else:\n",
    "            rs = yield from cur.fetchall()\n",
    "        yield from cur.close()\n",
    "        logger.info('Rows returned: %s' % len(rs))\n",
    "        return rs"
   ]
  },
  {
   "cell_type": "code",
   "execution_count": 5,
   "metadata": {
    "collapsed": true
   },
   "outputs": [],
   "source": [
    "@asyncio.coroutine\n",
    "def execute(sql, args):\n",
    "    log(sql)\n",
    "    with (yield from __pool) as conn:\n",
    "        try:\n",
    "            cur = yield from conn.cursor()\n",
    "            yield from cur.execute(sql.replace('?', '%s'), args)\n",
    "            affected = cur.rowcount\n",
    "            yield from cur.colse()\n",
    "        except BaseEexception as e:\n",
    "            raise\n",
    "        return affected"
   ]
  },
  {
   "cell_type": "code",
   "execution_count": 10,
   "metadata": {
    "collapsed": true
   },
   "outputs": [
    {
     "ename": "ImportError",
     "evalue": "No module named 'orm'",
     "output_type": "error",
     "traceback": [
      "\u001b[1;31m---------------------------------------------------------------------------\u001b[0m",
      "\u001b[1;31mImportError\u001b[0m                               Traceback (most recent call last)",
      "\u001b[1;32m<ipython-input-10-a70ba13d3172>\u001b[0m in \u001b[0;36m<module>\u001b[1;34m()\u001b[0m\n\u001b[1;32m----> 1\u001b[1;33m \u001b[1;32mfrom\u001b[0m \u001b[0morm\u001b[0m \u001b[1;32mimport\u001b[0m \u001b[0mModel\u001b[0m\u001b[1;33m,\u001b[0m \u001b[0mStringField\u001b[0m\u001b[1;33m,\u001b[0m \u001b[0mIntegerField\u001b[0m\u001b[1;33m\u001b[0m\u001b[0m\n\u001b[0m\u001b[0;32m      2\u001b[0m \u001b[1;33m\u001b[0m\u001b[0m\n\u001b[0;32m      3\u001b[0m \u001b[1;32mclass\u001b[0m \u001b[0muser\u001b[0m\u001b[1;33m(\u001b[0m\u001b[0mModel\u001b[0m\u001b[1;33m)\u001b[0m\u001b[1;33m:\u001b[0m\u001b[1;33m\u001b[0m\u001b[0m\n\u001b[0;32m      4\u001b[0m     \u001b[0m__table__\u001b[0m \u001b[1;33m=\u001b[0m \u001b[1;34m'users'\u001b[0m\u001b[1;33m\u001b[0m\u001b[0m\n\u001b[0;32m      5\u001b[0m \u001b[1;33m\u001b[0m\u001b[0m\n",
      "\u001b[1;31mImportError\u001b[0m: No module named 'orm'"
     ]
    }
   ],
   "source": [
    "from orm import Model, StringField, IntegerField\n",
    "\n",
    "class user(Model):\n",
    "    __table__ = 'users'\n",
    "    \n",
    "    id = IntegerField(primary_key = True)\n",
    "    name = StringField()\n",
    "    \n",
    "    "
   ]
  },
  {
   "cell_type": "code",
   "execution_count": 9,
   "metadata": {
    "collapsed": true
   },
   "outputs": [
    {
     "ename": "NameError",
     "evalue": "name 'User' is not defined",
     "output_type": "error",
     "traceback": [
      "\u001b[1;31m---------------------------------------------------------------------------\u001b[0m",
      "\u001b[1;31mNameError\u001b[0m                                 Traceback (most recent call last)",
      "\u001b[1;32m<ipython-input-9-ea32600d1222>\u001b[0m in \u001b[0;36m<module>\u001b[1;34m()\u001b[0m\n\u001b[1;32m----> 1\u001b[1;33m \u001b[0muser\u001b[0m \u001b[1;33m=\u001b[0m \u001b[0mUser\u001b[0m\u001b[1;33m(\u001b[0m \u001b[0mid\u001b[0m \u001b[1;33m=\u001b[0m \u001b[1;36m123\u001b[0m\u001b[1;33m,\u001b[0m \u001b[0mname\u001b[0m \u001b[1;33m=\u001b[0m \u001b[1;34m'Ai'\u001b[0m\u001b[1;33m)\u001b[0m\u001b[1;33m\u001b[0m\u001b[0m\n\u001b[0m",
      "\u001b[1;31mNameError\u001b[0m: name 'User' is not defined"
     ]
    }
   ],
   "source": [
    "user = User( id = 123, name = 'Ai')\n"
   ]
  },
  {
   "cell_type": "code",
   "execution_count": 3,
   "metadata": {
    "collapsed": true
   },
   "outputs": [
    {
     "ename": "SyntaxError",
     "evalue": "invalid syntax (<ipython-input-3-52b6ff217075>, line 31)",
     "output_type": "error",
     "traceback": [
      "\u001b[1;36m  File \u001b[1;32m\"<ipython-input-3-52b6ff217075>\"\u001b[1;36m, line \u001b[1;32m31\u001b[0m\n\u001b[1;33m    rs yield from select('%s where `%s` = ?' % (cls.__select__, cls.__primary_key__), [pk], 1)\u001b[0m\n\u001b[1;37m           ^\u001b[0m\n\u001b[1;31mSyntaxError\u001b[0m\u001b[1;31m:\u001b[0m invalid syntax\n"
     ]
    }
   ],
   "source": [
    "class Model(dict,metaclass = ModelMetaclass):\n",
    "    def __init__( self, **kw):\n",
    "        super(Modle, self).__init__(**kw)\n",
    "        \n",
    "    def __getattr__(self,key):\n",
    "        try:\n",
    "            return self[key]\n",
    "        except KeyError:\n",
    "            raise AttributeError(r\"'Model' has no attribute %s\" % key)\n",
    "            \n",
    "    def __setattr__(self, key, value):\n",
    "        self[key] = value\n",
    "        \n",
    "    def getValue(self, key):\n",
    "        return getattr(self,key,None)\n",
    "    \n",
    "    def getValueOrDefault(self,key):\n",
    "        value = getattr(self,key,None)\n",
    "        if value is None:\n",
    "            field = self.__mappings__(key)\n",
    "            if field.default is not None:\n",
    "                value = field.default() if callable(field.default) else field.default\n",
    "                logger.info('Using default value for %s: %s' % (key, str(value)))\n",
    "                setattr(self,key,value)\n",
    "        return value\n",
    "    \n",
    "    @classmethod\n",
    "    @asyncio.corountine\n",
    "    def find(cls, pk):\n",
    "        #find object by primary key.\n",
    "        rs yield from select('%s where `%s` = ?' % (cls.__select__, cls.__primary_key__), [pk], 1)\n",
    "        if len(rs) == 0:\n",
    "            return None\n",
    "        return cls(**rs[0])\n",
    "    \n",
    "    @asyncio.coroutine\n",
    "    def save(self):\n",
    "        args = list(map(self.getValueOrDefault,self.__fields__))\n",
    "        args.append(self.getValueOrDefault(self.__primary_key__))\n",
    "        rows = yield from execute(self.__insert__,args)\n",
    "        if rows != 1:\n",
    "            logger.warn('Failed to insert record: affected rows: %s' % rows)\n",
    "        \n",
    "        \n",
    "    "
   ]
  },
  {
   "cell_type": "markdown",
   "metadata": {},
   "source": [
    "User类现在就可以通过类方法实现主键查找：\n",
    "user = yield from User.find('123')\n",
    "\n",
    "这样，就可以把一个User实例存入数据库：\n",
    "user = User(id=123, name='Michael')\n",
    "yield from user.save()\n"
   ]
  },
  {
   "cell_type": "code",
   "execution_count": null,
   "metadata": {
    "collapsed": true
   },
   "outputs": [],
   "source": [
    "class Field(object):\n",
    "    def __init__(self, name, column_type, primary_key, default):\n",
    "        self.name = name\n",
    "        self.column_type = column_type\n",
    "        self.primary_key = primary_key\n",
    "        self.default = default\n",
    "        \n",
    "    def __str__(self):\n",
    "        return '<%s, %s:%s>' % ( self.__class__.__name__, self.column_type, self.name )\n",
    "    \n",
    "class StringField(Field):\n",
    "    def __init__(self, name = None, primary_key = False, default = None, ddl = 'varchar(100)'):\n",
    "        super.__init__(name, ddl, primary_key, default)\n",
    "        \n",
    "class ModelMateclass(type):\n",
    "    def __new__(cls ,name, bases, attrs):\n",
    "        #排除Model类本身\n",
    "        if name == 'Model':\n",
    "            return type.__new__(cls, name, bases, attrs)\n",
    "        #获取table名称：\n",
    "        tableName = attrs.get('__table__', None) or name\n",
    "        logger.info('Found mode: %s (table: %s)' % (name, tableName))\n",
    "        #获取所有的Field和主键名称\n",
    "        mappings = dict()\n",
    "        fields = []\n",
    "        primaryKey = None\n",
    "        for k, v in attrs.items():\n",
    "            if isinstance(v, Field):\n",
    "                logger.info('Found mapping: %s --> %s' % (k, v))\n",
    "                mappings[k] = v\n",
    "                if v.primary_key:\n",
    "                    #找到主键：\n",
    "                    if primaryKey:\n",
    "                        raise RuntimeError('Duplicated primary key for field: %s' % k)\n",
    "                    primaryKey = k\n",
    "                else:\n",
    "                    fields.append(k)\n",
    "        if not primaryKey:\n",
    "            raise RuntimeError('Primary key not found.')\n",
    "        for k in mappings.keys():\n",
    "            attrs.pop(k)\n",
    "        escaped_fields = list(map(lambda f: '`%s`' % f, fields))\n",
    "        attrs['__mappings__'] = mappings #保存属性和映射的关系\n",
    "        attrs['__table__'] = tableName\n",
    "        attrs['__primary_key__'] = primaryKey #主键属性名\n",
    "        attrs['__fields__'] = fields #除主键外的属性名\n",
    "        # 构造默认的SELECT, INSERT, UPDATE和DELETE语句:\n",
    "        attrs['__select__'] = 'select `%s`, %s from `%s`' % (primaryKey, ','.join(escaped_fields), from tableName)\n",
    "        attrs['__insert__'] = 'insert into `%s` (%s, `%s`) values (%s)' % (tableName, ','.join(escaped_fields), primaryKey, creat_args_string(len(escaped_fields) + 1))\n",
    "        attrs['__update__'] = 'update `%s` set %s where `%s` = ?' % (tableName, ','.join(map(lambda f: '`%s` = ?' % (mappings.get(f).name or f), fields)), primaryKey)\n",
    "        attrs['__delete__'] = 'delete from %s where `%s` = ? ' % (tableName, primaryKey)\n",
    "        return type.__new__(cls, name, bases, attrs)\n",
    "    "
   ]
  },
  {
   "cell_type": "code",
   "execution_count": null,
   "metadata": {
    "collapsed": true
   },
   "outputs": [],
   "source": []
  }
 ],
 "metadata": {
  "kernelspec": {
   "display_name": "Python 3",
   "language": "python",
   "name": "python3"
  },
  "language_info": {
   "codemirror_mode": {
    "name": "ipython",
    "version": 3
   },
   "file_extension": ".py",
   "mimetype": "text/x-python",
   "name": "python",
   "nbconvert_exporter": "python",
   "pygments_lexer": "ipython3",
   "version": "3.4.4"
  },
  "toc": {
   "colors": {
    "hover_highlight": "#DAA520",
    "navigate_num": "#000000",
    "navigate_text": "#333333",
    "running_highlight": "#FF0000",
    "selected_highlight": "#FFD700",
    "sidebar_border": "#EEEEEE",
    "wrapper_background": "#FFFFFF"
   },
   "moveMenuLeft": true,
   "nav_menu": {
    "height": "3px",
    "width": "253px"
   },
   "navigate_menu": true,
   "number_sections": true,
   "sideBar": true,
   "threshold": 4,
   "toc_cell": false,
   "toc_section_display": "block",
   "toc_window_display": false,
   "widenNotebook": false
  }
 },
 "nbformat": 4,
 "nbformat_minor": 2
}
