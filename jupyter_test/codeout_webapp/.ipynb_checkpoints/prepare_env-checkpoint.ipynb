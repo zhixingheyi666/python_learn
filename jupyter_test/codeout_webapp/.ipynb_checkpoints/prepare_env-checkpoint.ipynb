{
 "cells": [
  {
   "cell_type": "code",
   "execution_count": 1,
   "metadata": {},
   "outputs": [
    {
     "name": "stdout",
     "output_type": "stream",
     "text": [
      "Python 3.4.4\n"
     ]
    }
   ],
   "source": [
    "!python -V"
   ]
  },
  {
   "cell_type": "code",
   "execution_count": 2,
   "metadata": {},
   "outputs": [
    {
     "name": "stdout",
     "output_type": "stream",
     "text": [
      "Collecting aiohttp\n",
      "  Downloading https://pypi.doubanio.com/packages/74/62/e48b2004443b26f5cf9f1399ff096a92ae52ffa0ba63f6c93cb4d9abdaf4/aiohttp-2.2.3-cp34-cp34m-win_amd64.whl (313kB)\n",
      "Collecting multidict>=2.1.4 (from aiohttp)\n",
      "  Downloading https://pypi.doubanio.com/packages/eb/f3/9c3d916a9b83a4b6cff0843177f2940d5cc57835d4bc0bc781df352715c6/multidict-3.1.3.tar.gz (118kB)\n",
      "Collecting yarl>=0.11 (from aiohttp)\n",
      "  Downloading https://pypi.doubanio.com/packages/26/8b/e335a45600953cbaaa57e7f276eb8d89128898f11de63c47ecb97e32d29e/yarl-0.12.0.tar.gz (132kB)\n",
      "Requirement already satisfied: chardet in c:\\python34\\lib\\site-packages (from aiohttp)\n",
      "Collecting async-timeout>=1.2.0 (from aiohttp)\n",
      "  Downloading https://pypi.doubanio.com/packages/46/08/44b31f56d9c86ffc8c0abb320fe8465a1a5ae59dc2baddee383b4b3dd813/async_timeout-1.2.1-py3-none-any.whl\n",
      "Building wheels for collected packages: multidict, yarl\n",
      "  Running setup.py bdist_wheel for multidict: started\n",
      "  Running setup.py bdist_wheel for multidict: finished with status 'done'\n",
      "  Stored in directory: C:\\Users\\lenovo\\AppData\\Local\\pip\\Cache\\wheels\\9e\\f2\\61\\cebc96adf8bc0448a290491add0a567ca1ef07c64ce99d4ff1\n",
      "  Running setup.py bdist_wheel for yarl: started\n",
      "  Running setup.py bdist_wheel for yarl: finished with status 'done'\n",
      "  Stored in directory: C:\\Users\\lenovo\\AppData\\Local\\pip\\Cache\\wheels\\0d\\59\\c1\\5bf8beedd0bbc9d652dedd761a97e243f87221dac85eb857cc\n",
      "Successfully built multidict yarl\n",
      "Installing collected packages: multidict, yarl, async-timeout, aiohttp\n",
      "Successfully installed aiohttp-2.2.3 async-timeout-1.2.1 multidict-3.1.3 yarl-0.12.0\n"
     ]
    }
   ],
   "source": [
    "!pip install aiohttp"
   ]
  },
  {
   "cell_type": "code",
   "execution_count": 3,
   "metadata": {},
   "outputs": [
    {
     "name": "stdout",
     "output_type": "stream",
     "text": [
      "Requirement already satisfied: jinja2 in c:\\python34\\lib\\site-packages\n",
      "Requirement already satisfied: MarkupSafe>=0.23 in c:\\python34\\lib\\site-packages (from jinja2)\n"
     ]
    }
   ],
   "source": [
    "!pip install jinja2"
   ]
  },
  {
   "cell_type": "code",
   "execution_count": 4,
   "metadata": {},
   "outputs": [
    {
     "name": "stdout",
     "output_type": "stream",
     "text": [
      "Collecting aiomysql\n",
      "  Downloading https://pypi.doubanio.com/packages/df/95/304ddcbcadfb6ece475896728ae44d3fbcd97d1b04148a58439a3f30577a/aiomysql-0.0.9.tar.gz (53kB)\n",
      "Requirement already satisfied: PyMySQL>=0.7.5 in c:\\python34\\lib\\site-packages (from aiomysql)\n",
      "Building wheels for collected packages: aiomysql\n",
      "  Running setup.py bdist_wheel for aiomysql: started\n",
      "  Running setup.py bdist_wheel for aiomysql: finished with status 'done'\n",
      "  Stored in directory: C:\\Users\\lenovo\\AppData\\Local\\pip\\Cache\\wheels\\b8\\02\\8c\\081d1525226eb94e16a1004070b72842162f353ebbe90e2279\n",
      "Successfully built aiomysql\n",
      "Installing collected packages: aiomysql\n",
      "Successfully installed aiomysql-0.0.9\n"
     ]
    }
   ],
   "source": [
    "!pip install aiomysql"
   ]
  }
 ],
 "metadata": {
  "kernelspec": {
   "display_name": "Python 3",
   "language": "python",
   "name": "python3"
  },
  "language_info": {
   "codemirror_mode": {
    "name": "ipython",
    "version": 3
   },
   "file_extension": ".py",
   "mimetype": "text/x-python",
   "name": "python",
   "nbconvert_exporter": "python",
   "pygments_lexer": "ipython3",
   "version": "3.4.4"
  },
  "toc": {
   "colors": {
    "hover_highlight": "#DAA520",
    "navigate_num": "#000000",
    "navigate_text": "#333333",
    "running_highlight": "#FF0000",
    "selected_highlight": "#FFD700",
    "sidebar_border": "#EEEEEE",
    "wrapper_background": "#FFFFFF"
   },
   "moveMenuLeft": true,
   "nav_menu": {
    "height": "3px",
    "width": "253px"
   },
   "navigate_menu": true,
   "number_sections": true,
   "sideBar": true,
   "threshold": 4,
   "toc_cell": false,
   "toc_section_display": "block",
   "toc_window_display": false,
   "widenNotebook": false
  }
 },
 "nbformat": 4,
 "nbformat_minor": 2
}
