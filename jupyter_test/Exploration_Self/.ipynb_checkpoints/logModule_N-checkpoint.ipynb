{
 "cells": [
  {
   "cell_type": "code",
   "execution_count": 3,
   "metadata": {
    "collapsed": true
   },
   "outputs": [],
   "source": [
    "import logging, os\n",
    "from logging import getLogger\n",
    "from logging import FileHandler \n",
    "from logging import StreamHandler \n",
    "from logging import Formatter \n",
    "\n",
    "import pdb\n",
    "\n",
    "defaultFname = 'D:\\桌面\\Log-test.log'\n"
   ]
  },
  {
   "cell_type": "code",
   "execution_count": 10,
   "metadata": {},
   "outputs": [],
   "source": [
    "def crLog(level = ('DEBUG','DEBUG','INFO'), fname = defaultFname , head = 'SF', ifile = True, cls = False):\n",
    "#get a Logger instance\n",
    "    logger = getLogger(head)\n",
    "    pdb.set_trace()\n",
    "    info = setLevel(level[0], logger)\n",
    "    logger.warning(info)\n",
    "    return logger"
   ]
  },
  {
   "cell_type": "code",
   "execution_count": null,
   "metadata": {
    "collapsed": true
   },
   "outputs": [],
   "source": [
    "# -*- coding: utf-8 -*-\n",
    "#写一个通用的 日志 函数，返回一个日志实例\n",
    "#函数的作用就是通过传递参数来定制个性化的 日志实例，精细的控制日志行为来满足需要\n",
    "#比如多久日志清空一次，日志的路径等等\n",
    "#默认参数包括日志的名称和路径，是否启用文件日志，日志标志符等\n",
    "#当然，是否可以通过自定义 logging.Logger 类,来实现同样的功能，测试一下看看\n"
   ]
  },
  {
   "cell_type": "code",
   "execution_count": null,
   "metadata": {
    "collapsed": true
   },
   "outputs": [],
   "source": []
  }
 ],
 "metadata": {
  "kernelspec": {
   "display_name": "Python 3",
   "language": "python",
   "name": "python3"
  },
  "language_info": {
   "codemirror_mode": {
    "name": "ipython",
    "version": 3
   },
   "file_extension": ".py",
   "mimetype": "text/x-python",
   "name": "python",
   "nbconvert_exporter": "python",
   "pygments_lexer": "ipython3",
   "version": "3.4.4"
  },
  "toc": {
   "colors": {
    "hover_highlight": "#DAA520",
    "navigate_num": "#000000",
    "navigate_text": "#333333",
    "running_highlight": "#FF0000",
    "selected_highlight": "#FFD700",
    "sidebar_border": "#EEEEEE",
    "wrapper_background": "#FFFFFF"
   },
   "moveMenuLeft": true,
   "nav_menu": {
    "height": "3px",
    "width": "253px"
   },
   "navigate_menu": true,
   "number_sections": true,
   "sideBar": true,
   "threshold": 4,
   "toc_cell": false,
   "toc_section_display": "block",
   "toc_window_display": false,
   "widenNotebook": false
  }
 },
 "nbformat": 4,
 "nbformat_minor": 2
}
