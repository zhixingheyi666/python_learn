{
 "cells": [
  {
   "cell_type": "code",
   "execution_count": 57,
   "metadata": {
    "collapsed": true
   },
   "outputs": [],
   "source": [
    "import inspect"
   ]
  },
  {
   "cell_type": "code",
   "execution_count": 58,
   "metadata": {
    "collapsed": true
   },
   "outputs": [],
   "source": [
    "def powerI(a, b = 0, *c, d, e = 1, **f ):\n",
    "    pass"
   ]
  },
  {
   "cell_type": "code",
   "execution_count": 59,
   "metadata": {},
   "outputs": [],
   "source": [
    "pw_sig = inspect.signature(powerI)"
   ]
  },
  {
   "cell_type": "code",
   "execution_count": 60,
   "metadata": {},
   "outputs": [
    {
     "data": {
      "text/plain": [
       "inspect.Signature"
      ]
     },
     "execution_count": 60,
     "metadata": {},
     "output_type": "execute_result"
    }
   ],
   "source": [
    "#inspect.signature(powerI)的类型是：\n",
    "type(pw_sig)"
   ]
  },
  {
   "cell_type": "code",
   "execution_count": 61,
   "metadata": {},
   "outputs": [
    {
     "name": "stdout",
     "output_type": "stream",
     "text": [
      "(a, b=0, *c, d, e=1, **f)\n"
     ]
    }
   ],
   "source": [
    "#inspect.signature(powerI)的值是：\n",
    "print(pw_sig)"
   ]
  },
  {
   "cell_type": "code",
   "execution_count": 62,
   "metadata": {},
   "outputs": [
    {
     "data": {
      "text/plain": [
       "False"
      ]
     },
     "execution_count": 62,
     "metadata": {},
     "output_type": "execute_result"
    }
   ],
   "source": [
    "isinstance(pw_sig,str)"
   ]
  },
  {
   "cell_type": "code",
   "execution_count": 63,
   "metadata": {
    "collapsed": true
   },
   "outputs": [],
   "source": [
    "pw_para = pw_sig.parameters"
   ]
  },
  {
   "cell_type": "code",
   "execution_count": 64,
   "metadata": {},
   "outputs": [
    {
     "name": "stdout",
     "output_type": "stream",
     "text": [
      "OrderedDict([('a', <Parameter at 0x68f4900 'a'>), ('b', <Parameter at 0x68f49d8 'b'>), ('c', <Parameter at 0x68f4b88 'c'>), ('d', <Parameter at 0x68f4948 'd'>), ('e', <Parameter at 0x68f48b8 'e'>), ('f', <Parameter at 0x68f4e58 'f'>)])\n"
     ]
    }
   ],
   "source": [
    "#signature.parameters属性值是：\n",
    "print(pw_para)"
   ]
  },
  {
   "cell_type": "code",
   "execution_count": 65,
   "metadata": {},
   "outputs": [
    {
     "data": {
      "text/plain": [
       "mappingproxy"
      ]
     },
     "execution_count": 65,
     "metadata": {},
     "output_type": "execute_result"
    }
   ],
   "source": [
    "#signature.parameters属性的类型是：\n",
    "type(pw_para)"
   ]
  },
  {
   "cell_type": "code",
   "execution_count": 69,
   "metadata": {
    "scrolled": true
   },
   "outputs": [
    {
     "name": "stdout",
     "output_type": "stream",
     "text": [
      "key: a\n",
      "type(key): <class 'str'>\n",
      "value: a\n",
      "type(value): <class 'inspect.Parameter'>\n",
      "inspect.Parameter.kind: \n",
      "POSITIONAL_OR_KEYWORD\n",
      "inspect.Parameter.default: \n",
      "<class 'inspect._empty'>\n",
      "\n",
      "\n",
      "key: b\n",
      "type(key): <class 'str'>\n",
      "value: b=0\n",
      "type(value): <class 'inspect.Parameter'>\n",
      "inspect.Parameter.kind: \n",
      "POSITIONAL_OR_KEYWORD\n",
      "inspect.Parameter.default: \n",
      "0\n",
      "\n",
      "\n",
      "key: c\n",
      "type(key): <class 'str'>\n",
      "value: *c\n",
      "type(value): <class 'inspect.Parameter'>\n",
      "inspect.Parameter.kind: \n",
      "VAR_POSITIONAL\n",
      "inspect.Parameter.default: \n",
      "<class 'inspect._empty'>\n",
      "\n",
      "\n",
      "key: d\n",
      "type(key): <class 'str'>\n",
      "value: d\n",
      "type(value): <class 'inspect.Parameter'>\n",
      "inspect.Parameter.kind: \n",
      "KEYWORD_ONLY\n",
      "inspect.Parameter.default: \n",
      "<class 'inspect._empty'>\n",
      "\n",
      "\n",
      "key: e\n",
      "type(key): <class 'str'>\n",
      "value: e=1\n",
      "type(value): <class 'inspect.Parameter'>\n",
      "inspect.Parameter.kind: \n",
      "KEYWORD_ONLY\n",
      "inspect.Parameter.default: \n",
      "1\n",
      "\n",
      "\n",
      "key: f\n",
      "type(key): <class 'str'>\n",
      "value: **f\n",
      "type(value): <class 'inspect.Parameter'>\n",
      "inspect.Parameter.kind: \n",
      "VAR_KEYWORD\n",
      "inspect.Parameter.default: \n",
      "<class 'inspect._empty'>\n",
      "\n",
      "\n"
     ]
    }
   ],
   "source": [
    "#def powerI(a, b = 0, *c, d, e = 1, **f ):\n",
    "#    pass\n",
    "#pw_para.items() is inspect.signature.parameters.items()\n",
    "for k, v in pw_para.items():\n",
    "    print('key: {}'.format(k))\n",
    "    print('type(key): {}'.format(type(k)))\n",
    "    print('value: {}'.format(v))\n",
    "    print('type(value): {}'.format(type(v)))\n",
    "    print('inspect.Parameter.kind: \\n{}'.format(v.kind))\n",
    "    print('inspect.Parameter.default: \\n{}\\n\\n'.format(v.default))\n",
    "    \n",
    "    "
   ]
  },
  {
   "cell_type": "code",
   "execution_count": 67,
   "metadata": {
    "scrolled": false
   },
   "outputs": [
    {
     "name": "stdout",
     "output_type": "stream",
     "text": [
      "key: a\n",
      "type(key): <class 'str'>\n",
      "value: a\n",
      "type(value): <class 'inspect.Parameter'>\n",
      "inspect.Parameter.kind: \n",
      "POSITIONAL_OR_KEYWORD\n",
      "inspect.Parameter.default: \n",
      "<class 'inspect._empty'>\n",
      "\n",
      "\n"
     ]
    }
   ],
   "source": [
    "def powerII(a):\n",
    "    pass\n",
    "pwI_para = inspect.signature(powerII).parameters\n",
    "for k, v in pwI_para.items():\n",
    "    print('key: {}'.format(k))\n",
    "    print('type(key): {}'.format(type(k)))\n",
    "    print('value: {}'.format(v))\n",
    "    print('type(value): {}'.format(type(v)))\n",
    "    print('inspect.Parameter.kind: \\n{}'.format(v.kind))\n",
    "    print('inspect.Parameter.default: \\n{}\\n\\n'.format(v.default))\n",
    "    \n",
    "    "
   ]
  },
  {
   "cell_type": "code",
   "execution_count": 68,
   "metadata": {
    "scrolled": false
   },
   "outputs": [
    {
     "ename": "SyntaxError",
     "evalue": "named arguments must follow bare * (<ipython-input-68-8cf1dc94f402>, line 1)",
     "output_type": "error",
     "traceback": [
      "\u001b[1;36m  File \u001b[1;32m\"<ipython-input-68-8cf1dc94f402>\"\u001b[1;36m, line \u001b[1;32m1\u001b[0m\n\u001b[1;33m    def powerI(a,b,*):\u001b[0m\n\u001b[1;37m                  ^\u001b[0m\n\u001b[1;31mSyntaxError\u001b[0m\u001b[1;31m:\u001b[0m named arguments must follow bare *\n"
     ]
    }
   ],
   "source": [
    "def powerIII(a,b,*):\n",
    "    pass\n",
    "pwI_para = inspect.signature(powerIII).parameters\n",
    "for k, v in pwI_para.items():\n",
    "    print('key: {}'.format(k))\n",
    "    print('type(key): {}'.format(type(k)))\n",
    "    print('value: {}'.format(v))\n",
    "    print('type(value): {}'.format(type(v)))\n",
    "    print('inspect.Parameter.kind: \\n{}'.format(v.kind))\n",
    "    print('inspect.Parameter.default: \\n{}\\n\\n'.format(v.default))\n",
    "    \n",
    "    "
   ]
  },
  {
   "cell_type": "code",
   "execution_count": null,
   "metadata": {},
   "outputs": [],
   "source": [
    "help(inspect.Parameter)"
   ]
  },
  {
   "cell_type": "code",
   "execution_count": null,
   "metadata": {
    "collapsed": true
   },
   "outputs": [],
   "source": [
    "dir(pw_sig)"
   ]
  }
 ],
 "metadata": {
  "kernelspec": {
   "display_name": "Python 3",
   "language": "python",
   "name": "python3"
  },
  "language_info": {
   "codemirror_mode": {
    "name": "ipython",
    "version": 3
   },
   "file_extension": ".py",
   "mimetype": "text/x-python",
   "name": "python",
   "nbconvert_exporter": "python",
   "pygments_lexer": "ipython3",
   "version": "3.4.4"
  },
  "toc": {
   "colors": {
    "hover_highlight": "#DAA520",
    "navigate_num": "#000000",
    "navigate_text": "#333333",
    "running_highlight": "#FF0000",
    "selected_highlight": "#FFD700",
    "sidebar_border": "#EEEEEE",
    "wrapper_background": "#FFFFFF"
   },
   "moveMenuLeft": true,
   "nav_menu": {
    "height": "3px",
    "width": "253px"
   },
   "navigate_menu": true,
   "number_sections": true,
   "sideBar": true,
   "threshold": 4,
   "toc_cell": false,
   "toc_section_display": "block",
   "toc_window_display": false,
   "widenNotebook": false
  }
 },
 "nbformat": 4,
 "nbformat_minor": 2
}
