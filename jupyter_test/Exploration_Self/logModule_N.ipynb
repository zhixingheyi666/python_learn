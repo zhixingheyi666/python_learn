{
 "cells": [
  {
   "cell_type": "code",
   "execution_count": 1,
   "metadata": {
    "collapsed": true
   },
   "outputs": [],
   "source": [
    "import logging, os\n",
    "from logging import getLogger\n",
    "from logging import FileHandler \n",
    "from logging import StreamHandler \n",
    "from logging import Formatter \n",
    "\n",
    "import pdb\n",
    "\n",
    "defaultFname = 'D:\\桌面\\Log-test.log'\n"
   ]
  },
  {
   "cell_type": "code",
   "execution_count": 7,
   "metadata": {
    "collapsed": true
   },
   "outputs": [],
   "source": [
    "def crLog(level = ('DEBUG','DEBUG','INFO'), fname = defaultFname , head = 'SF', ifile = True, cls = False):\n",
    "#get a Logger instance\n",
    "    logger = getLogger(head)\n",
    "    logger.warning('info')\n",
    "    return logger"
   ]
  },
  {
   "cell_type": "code",
   "execution_count": 8,
   "metadata": {},
   "outputs": [
    {
     "name": "stderr",
     "output_type": "stream",
     "text": [
      "info\n"
     ]
    }
   ],
   "source": [
    "logger = crLog()"
   ]
  },
  {
   "cell_type": "code",
   "execution_count": 14,
   "metadata": {},
   "outputs": [],
   "source": [
    "if   logger.handlers and logger.handler[0] :\n",
    "    print('Yes')"
   ]
  },
  {
   "cell_type": "code",
   "execution_count": 4,
   "metadata": {},
   "outputs": [
    {
     "name": "stdout",
     "output_type": "stream",
     "text": [
      "Help on class FileHandler in module logging:\n",
      "\n",
      "class FileHandler(StreamHandler)\n",
      " |  A handler class which writes formatted logging records to disk files.\n",
      " |  \n",
      " |  Method resolution order:\n",
      " |      FileHandler\n",
      " |      StreamHandler\n",
      " |      Handler\n",
      " |      Filterer\n",
      " |      builtins.object\n",
      " |  \n",
      " |  Methods defined here:\n",
      " |  \n",
      " |  __init__(self, filename, mode='a', encoding=None, delay=False)\n",
      " |      Open the specified file and use it as the stream for logging.\n",
      " |  \n",
      " |  close(self)\n",
      " |      Closes the stream.\n",
      " |  \n",
      " |  emit(self, record)\n",
      " |      Emit a record.\n",
      " |      \n",
      " |      If the stream was not opened because 'delay' was specified in the\n",
      " |      constructor, open it before calling the superclass's emit.\n",
      " |  \n",
      " |  ----------------------------------------------------------------------\n",
      " |  Methods inherited from StreamHandler:\n",
      " |  \n",
      " |  flush(self)\n",
      " |      Flushes the stream.\n",
      " |  \n",
      " |  ----------------------------------------------------------------------\n",
      " |  Data and other attributes inherited from StreamHandler:\n",
      " |  \n",
      " |  terminator = '\\n'\n",
      " |  \n",
      " |  ----------------------------------------------------------------------\n",
      " |  Methods inherited from Handler:\n",
      " |  \n",
      " |  acquire(self)\n",
      " |      Acquire the I/O thread lock.\n",
      " |  \n",
      " |  createLock(self)\n",
      " |      Acquire a thread lock for serializing access to the underlying I/O.\n",
      " |  \n",
      " |  format(self, record)\n",
      " |      Format the specified record.\n",
      " |      \n",
      " |      If a formatter is set, use it. Otherwise, use the default formatter\n",
      " |      for the module.\n",
      " |  \n",
      " |  get_name(self)\n",
      " |  \n",
      " |  handle(self, record)\n",
      " |      Conditionally emit the specified logging record.\n",
      " |      \n",
      " |      Emission depends on filters which may have been added to the handler.\n",
      " |      Wrap the actual emission of the record with acquisition/release of\n",
      " |      the I/O thread lock. Returns whether the filter passed the record for\n",
      " |      emission.\n",
      " |  \n",
      " |  handleError(self, record)\n",
      " |      Handle errors which occur during an emit() call.\n",
      " |      \n",
      " |      This method should be called from handlers when an exception is\n",
      " |      encountered during an emit() call. If raiseExceptions is false,\n",
      " |      exceptions get silently ignored. This is what is mostly wanted\n",
      " |      for a logging system - most users will not care about errors in\n",
      " |      the logging system, they are more interested in application errors.\n",
      " |      You could, however, replace this with a custom handler if you wish.\n",
      " |      The record which was being processed is passed in to this method.\n",
      " |  \n",
      " |  release(self)\n",
      " |      Release the I/O thread lock.\n",
      " |  \n",
      " |  setFormatter(self, fmt)\n",
      " |      Set the formatter for this handler.\n",
      " |  \n",
      " |  setLevel(self, level)\n",
      " |      Set the logging level of this handler.  level must be an int or a str.\n",
      " |  \n",
      " |  set_name(self, name)\n",
      " |  \n",
      " |  ----------------------------------------------------------------------\n",
      " |  Data descriptors inherited from Handler:\n",
      " |  \n",
      " |  name\n",
      " |  \n",
      " |  ----------------------------------------------------------------------\n",
      " |  Methods inherited from Filterer:\n",
      " |  \n",
      " |  addFilter(self, filter)\n",
      " |      Add the specified filter to this handler.\n",
      " |  \n",
      " |  filter(self, record)\n",
      " |      Determine if a record is loggable by consulting all the filters.\n",
      " |      \n",
      " |      The default is to allow the record to be logged; any filter can veto\n",
      " |      this and the record is then dropped. Returns a zero value if a record\n",
      " |      is to be dropped, else non-zero.\n",
      " |      \n",
      " |      .. versionchanged: 3.2\n",
      " |      \n",
      " |         Allow filters to be just callables.\n",
      " |  \n",
      " |  removeFilter(self, filter)\n",
      " |      Remove the specified filter from this handler.\n",
      " |  \n",
      " |  ----------------------------------------------------------------------\n",
      " |  Data descriptors inherited from Filterer:\n",
      " |  \n",
      " |  __dict__\n",
      " |      dictionary for instance variables (if defined)\n",
      " |  \n",
      " |  __weakref__\n",
      " |      list of weak references to the object (if defined)\n",
      "\n"
     ]
    }
   ],
   "source": [
    "help(FileHandler)"
   ]
  },
  {
   "cell_type": "code",
   "execution_count": null,
   "metadata": {
    "collapsed": true
   },
   "outputs": [],
   "source": [
    "# -*- coding: utf-8 -*-\n",
    "#写一个通用的 日志 函数，返回一个日志实例\n",
    "#函数的作用就是通过传递参数来定制个性化的 日志实例，精细的控制日志行为来满足需要\n",
    "#比如多久日志清空一次，日志的路径等等\n",
    "#默认参数包括日志的名称和路径，是否启用文件日志，日志标志符等\n",
    "#当然，是否可以通过自定义 logging.Logger 类,来实现同样的功能，测试一下看看\n"
   ]
  },
  {
   "cell_type": "code",
   "execution_count": null,
   "metadata": {
    "collapsed": true
   },
   "outputs": [],
   "source": []
  }
 ],
 "metadata": {
  "kernelspec": {
   "display_name": "Python 3",
   "language": "python",
   "name": "python3"
  },
  "language_info": {
   "codemirror_mode": {
    "name": "ipython",
    "version": 3
   },
   "file_extension": ".py",
   "mimetype": "text/x-python",
   "name": "python",
   "nbconvert_exporter": "python",
   "pygments_lexer": "ipython3",
   "version": "3.4.4"
  },
  "toc": {
   "colors": {
    "hover_highlight": "#DAA520",
    "navigate_num": "#000000",
    "navigate_text": "#333333",
    "running_highlight": "#FF0000",
    "selected_highlight": "#FFD700",
    "sidebar_border": "#EEEEEE",
    "wrapper_background": "#FFFFFF"
   },
   "moveMenuLeft": true,
   "nav_menu": {
    "height": "3px",
    "width": "253px"
   },
   "navigate_menu": true,
   "number_sections": true,
   "sideBar": true,
   "threshold": 4,
   "toc_cell": false,
   "toc_section_display": "block",
   "toc_window_display": false,
   "widenNotebook": false
  }
 },
 "nbformat": 4,
 "nbformat_minor": 2
}
