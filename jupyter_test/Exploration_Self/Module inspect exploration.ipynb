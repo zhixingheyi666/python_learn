{
 "cells": [
  {
   "cell_type": "code",
   "execution_count": 1,
   "metadata": {
    "collapsed": true
   },
   "outputs": [],
   "source": [
    "import inspect"
   ]
  },
  {
   "cell_type": "code",
   "execution_count": 2,
   "metadata": {
    "collapsed": true
   },
   "outputs": [],
   "source": [
    "def powerI(a, b = 0, *c, d, e = 1, **f ):\n",
    "    pass"
   ]
  },
  {
   "cell_type": "code",
   "execution_count": 3,
   "metadata": {
    "collapsed": true
   },
   "outputs": [],
   "source": [
    "pw_sig = inspect.signature(powerI)"
   ]
  },
  {
   "cell_type": "code",
   "execution_count": 4,
   "metadata": {},
   "outputs": [
    {
     "data": {
      "text/plain": [
       "inspect.Signature"
      ]
     },
     "execution_count": 4,
     "metadata": {},
     "output_type": "execute_result"
    }
   ],
   "source": [
    "#inspect.signature(powerI)的类型是：\n",
    "type(pw_sig)"
   ]
  },
  {
   "cell_type": "code",
   "execution_count": 5,
   "metadata": {},
   "outputs": [
    {
     "name": "stdout",
     "output_type": "stream",
     "text": [
      "(a, b=0, *c, d, e=1, **f)\n"
     ]
    }
   ],
   "source": [
    "#inspect.signature(powerI)的值是：\n",
    "print(pw_sig)"
   ]
  },
  {
   "cell_type": "code",
   "execution_count": 6,
   "metadata": {},
   "outputs": [
    {
     "data": {
      "text/plain": [
       "False"
      ]
     },
     "execution_count": 6,
     "metadata": {},
     "output_type": "execute_result"
    }
   ],
   "source": [
    "isinstance(pw_sig,str)"
   ]
  },
  {
   "cell_type": "code",
   "execution_count": 7,
   "metadata": {
    "collapsed": true
   },
   "outputs": [],
   "source": [
    "pw_para = pw_sig.parameters"
   ]
  },
  {
   "cell_type": "code",
   "execution_count": 8,
   "metadata": {},
   "outputs": [
    {
     "name": "stdout",
     "output_type": "stream",
     "text": [
      "OrderedDict([('a', <Parameter at 0x48677e0 'a'>), ('b', <Parameter at 0x4867d80 'b'>), ('c', <Parameter at 0x4867990 'c'>), ('d', <Parameter at 0x4867dc8 'd'>), ('e', <Parameter at 0x4867e10 'e'>), ('f', <Parameter at 0x4867c60 'f'>)])\n"
     ]
    }
   ],
   "source": [
    "#signature.parameters属性值是：\n",
    "print(pw_para)"
   ]
  },
  {
   "cell_type": "code",
   "execution_count": 9,
   "metadata": {},
   "outputs": [
    {
     "data": {
      "text/plain": [
       "mappingproxy"
      ]
     },
     "execution_count": 9,
     "metadata": {},
     "output_type": "execute_result"
    }
   ],
   "source": [
    "#signature.parameters属性的类型是：\n",
    "type(pw_para)"
   ]
  },
  {
   "cell_type": "code",
   "execution_count": 10,
   "metadata": {
    "scrolled": false
   },
   "outputs": [
    {
     "name": "stdout",
     "output_type": "stream",
     "text": [
      "key: a\n",
      "type(key): <class 'str'>\n",
      "value: a\n",
      "type(value): <class 'inspect.Parameter'>\n",
      "inspect.Parameter.kind: \n",
      "POSITIONAL_OR_KEYWORD\n",
      "inspect.Parameter.default: \n",
      "<class 'inspect._empty'>\n",
      "\n",
      "\n",
      "key: b\n",
      "type(key): <class 'str'>\n",
      "value: b=0\n",
      "type(value): <class 'inspect.Parameter'>\n",
      "inspect.Parameter.kind: \n",
      "POSITIONAL_OR_KEYWORD\n",
      "inspect.Parameter.default: \n",
      "0\n",
      "\n",
      "\n",
      "key: c\n",
      "type(key): <class 'str'>\n",
      "value: *c\n",
      "type(value): <class 'inspect.Parameter'>\n",
      "inspect.Parameter.kind: \n",
      "VAR_POSITIONAL\n",
      "inspect.Parameter.default: \n",
      "<class 'inspect._empty'>\n",
      "\n",
      "\n",
      "key: d\n",
      "type(key): <class 'str'>\n",
      "value: d\n",
      "type(value): <class 'inspect.Parameter'>\n",
      "inspect.Parameter.kind: \n",
      "KEYWORD_ONLY\n",
      "inspect.Parameter.default: \n",
      "<class 'inspect._empty'>\n",
      "\n",
      "\n",
      "key: e\n",
      "type(key): <class 'str'>\n",
      "value: e=1\n",
      "type(value): <class 'inspect.Parameter'>\n",
      "inspect.Parameter.kind: \n",
      "KEYWORD_ONLY\n",
      "inspect.Parameter.default: \n",
      "1\n",
      "\n",
      "\n",
      "key: f\n",
      "type(key): <class 'str'>\n",
      "value: **f\n",
      "type(value): <class 'inspect.Parameter'>\n",
      "inspect.Parameter.kind: \n",
      "VAR_KEYWORD\n",
      "inspect.Parameter.default: \n",
      "<class 'inspect._empty'>\n",
      "\n",
      "\n"
     ]
    }
   ],
   "source": [
    "#def powerI(a, b = 0, *c, d, e = 1, **f ):\n",
    "#    pass\n",
    "#pw_para.items() is inspect.signature.parameters.items()\n",
    "for k, v in pw_para.items():\n",
    "    print('key: {}'.format(k))\n",
    "    print('type(key): {}'.format(type(k)))\n",
    "    print('value: {}'.format(v))\n",
    "    print('type(value): {}'.format(type(v)))\n",
    "    print('inspect.Parameter.kind: \\n{}'.format(v.kind))\n",
    "    print('inspect.Parameter.default: \\n{}\\n\\n'.format(v.default))\n",
    "    \n",
    "    "
   ]
  },
  {
   "cell_type": "code",
   "execution_count": 11,
   "metadata": {
    "scrolled": false
   },
   "outputs": [
    {
     "name": "stdout",
     "output_type": "stream",
     "text": [
      "key: a\n",
      "type(key): <class 'str'>\n",
      "value: a\n",
      "type(value): <class 'inspect.Parameter'>\n",
      "inspect.Parameter.kind: \n",
      "POSITIONAL_OR_KEYWORD\n",
      "inspect.Parameter.default: \n",
      "<class 'inspect._empty'>\n",
      "\n",
      "\n"
     ]
    }
   ],
   "source": [
    "def powerII(a):\n",
    "    pass\n",
    "pwI_para = inspect.signature(powerII).parameters\n",
    "for k, v in pwI_para.items():\n",
    "    print('key: {}'.format(k))\n",
    "    print('type(key): {}'.format(type(k)))\n",
    "    print('value: {}'.format(v))\n",
    "    print('type(value): {}'.format(type(v)))\n",
    "    print('inspect.Parameter.kind: \\n{}'.format(v.kind))\n",
    "    print('inspect.Parameter.default: \\n{}\\n\\n'.format(v.default))\n",
    "    \n",
    "    "
   ]
  },
  {
   "cell_type": "code",
   "execution_count": 12,
   "metadata": {
    "scrolled": false
   },
   "outputs": [
    {
     "ename": "SyntaxError",
     "evalue": "named arguments must follow bare * (<ipython-input-12-74fb7cf6a170>, line 1)",
     "output_type": "error",
     "traceback": [
      "\u001b[1;36m  File \u001b[1;32m\"<ipython-input-12-74fb7cf6a170>\"\u001b[1;36m, line \u001b[1;32m1\u001b[0m\n\u001b[1;33m    def powerIII(a,b,*):\u001b[0m\n\u001b[1;37m                    ^\u001b[0m\n\u001b[1;31mSyntaxError\u001b[0m\u001b[1;31m:\u001b[0m named arguments must follow bare *\n"
     ]
    }
   ],
   "source": [
    "def powerIII(a,b,*):\n",
    "    pass\n",
    "pwI_para = inspect.signature(powerIII).parameters\n",
    "for k, v in pwI_para.items():\n",
    "    print('key: {}'.format(k))\n",
    "    print('type(key): {}'.format(type(k)))\n",
    "    print('value: {}'.format(v))\n",
    "    print('type(value): {}'.format(type(v)))\n",
    "    print('inspect.Parameter.kind: \\n{}'.format(v.kind))\n",
    "    print('inspect.Parameter.default: \\n{}\\n\\n'.format(v.default))\n",
    "    \n",
    "    "
   ]
  },
  {
   "cell_type": "code",
   "execution_count": 13,
   "metadata": {},
   "outputs": [
    {
     "name": "stdout",
     "output_type": "stream",
     "text": [
      "Help on class Parameter in module inspect:\n",
      "\n",
      "class Parameter(builtins.object)\n",
      " |  Represents a parameter in a function signature.\n",
      " |  \n",
      " |  Has the following public attributes:\n",
      " |  \n",
      " |  * name : str\n",
      " |      The name of the parameter as a string.\n",
      " |  * default : object\n",
      " |      The default value for the parameter if specified.  If the\n",
      " |      parameter has no default value, this attribute is set to\n",
      " |      `Parameter.empty`.\n",
      " |  * annotation\n",
      " |      The annotation for the parameter if specified.  If the\n",
      " |      parameter has no annotation, this attribute is set to\n",
      " |      `Parameter.empty`.\n",
      " |  * kind : str\n",
      " |      Describes how argument values are bound to the parameter.\n",
      " |      Possible values: `Parameter.POSITIONAL_ONLY`,\n",
      " |      `Parameter.POSITIONAL_OR_KEYWORD`, `Parameter.VAR_POSITIONAL`,\n",
      " |      `Parameter.KEYWORD_ONLY`, `Parameter.VAR_KEYWORD`.\n",
      " |  \n",
      " |  Methods defined here:\n",
      " |  \n",
      " |  __eq__(self, other)\n",
      " |  \n",
      " |  __init__(self, name, kind, *, default, annotation)\n",
      " |  \n",
      " |  __repr__(self)\n",
      " |  \n",
      " |  __str__(self)\n",
      " |  \n",
      " |  replace(self, *, name=<class 'inspect._void'>, kind=<class 'inspect._void'>, annotation=<class 'inspect._void'>, default=<class 'inspect._void'>)\n",
      " |      Creates a customized copy of the Parameter.\n",
      " |  \n",
      " |  ----------------------------------------------------------------------\n",
      " |  Data descriptors defined here:\n",
      " |  \n",
      " |  annotation\n",
      " |  \n",
      " |  default\n",
      " |  \n",
      " |  kind\n",
      " |  \n",
      " |  name\n",
      " |  \n",
      " |  ----------------------------------------------------------------------\n",
      " |  Data and other attributes defined here:\n",
      " |  \n",
      " |  KEYWORD_ONLY = <_ParameterKind: 'KEYWORD_ONLY'>\n",
      " |  \n",
      " |  POSITIONAL_ONLY = <_ParameterKind: 'POSITIONAL_ONLY'>\n",
      " |  \n",
      " |  POSITIONAL_OR_KEYWORD = <_ParameterKind: 'POSITIONAL_OR_KEYWORD'>\n",
      " |  \n",
      " |  VAR_KEYWORD = <_ParameterKind: 'VAR_KEYWORD'>\n",
      " |  \n",
      " |  VAR_POSITIONAL = <_ParameterKind: 'VAR_POSITIONAL'>\n",
      " |  \n",
      " |  __hash__ = None\n",
      " |  \n",
      " |  empty = <class 'inspect._empty'>\n",
      "\n"
     ]
    }
   ],
   "source": [
    "help(inspect.Parameter)"
   ]
  },
  {
   "cell_type": "code",
   "execution_count": 14,
   "metadata": {},
   "outputs": [
    {
     "data": {
      "text/plain": [
       "['__class__',\n",
       " '__delattr__',\n",
       " '__dir__',\n",
       " '__doc__',\n",
       " '__eq__',\n",
       " '__format__',\n",
       " '__ge__',\n",
       " '__getattribute__',\n",
       " '__gt__',\n",
       " '__hash__',\n",
       " '__init__',\n",
       " '__le__',\n",
       " '__lt__',\n",
       " '__module__',\n",
       " '__ne__',\n",
       " '__new__',\n",
       " '__reduce__',\n",
       " '__reduce_ex__',\n",
       " '__repr__',\n",
       " '__setattr__',\n",
       " '__sizeof__',\n",
       " '__slots__',\n",
       " '__str__',\n",
       " '__subclasshook__',\n",
       " '_bind',\n",
       " '_bound_arguments_cls',\n",
       " '_parameter_cls',\n",
       " '_parameters',\n",
       " '_return_annotation',\n",
       " 'bind',\n",
       " 'bind_partial',\n",
       " 'empty',\n",
       " 'from_builtin',\n",
       " 'from_function',\n",
       " 'parameters',\n",
       " 'replace',\n",
       " 'return_annotation']"
      ]
     },
     "execution_count": 14,
     "metadata": {},
     "output_type": "execute_result"
    }
   ],
   "source": [
    "dir(pw_sig)"
   ]
  }
 ],
 "metadata": {
  "kernelspec": {
   "display_name": "Python 3",
   "language": "python",
   "name": "python3"
  },
  "language_info": {
   "codemirror_mode": {
    "name": "ipython",
    "version": 3
   },
   "file_extension": ".py",
   "mimetype": "text/x-python",
   "name": "python",
   "nbconvert_exporter": "python",
   "pygments_lexer": "ipython3",
   "version": "3.4.4"
  },
  "toc": {
   "colors": {
    "hover_highlight": "#DAA520",
    "navigate_num": "#000000",
    "navigate_text": "#333333",
    "running_highlight": "#FF0000",
    "selected_highlight": "#FFD700",
    "sidebar_border": "#EEEEEE",
    "wrapper_background": "#FFFFFF"
   },
   "moveMenuLeft": true,
   "nav_menu": {
    "height": "3px",
    "width": "253px"
   },
   "navigate_menu": true,
   "number_sections": true,
   "sideBar": true,
   "threshold": 4,
   "toc_cell": false,
   "toc_section_display": "block",
   "toc_window_display": false,
   "widenNotebook": false
  }
 },
 "nbformat": 4,
 "nbformat_minor": 2
}
