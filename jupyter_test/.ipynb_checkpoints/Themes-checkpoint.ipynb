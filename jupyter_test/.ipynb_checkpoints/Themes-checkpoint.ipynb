{
 "cells": [
  {
   "cell_type": "code",
   "execution_count": null,
   "metadata": {
    "collapsed": true,
    "slideshow": {
     "slide_type": "slide"
    },
    "tags": [
     "Just",
     "A",
     "Test!"
    ]
   },
   "outputs": [],
   "source": [
    "!pip install --upgrade jupyterthemes\n",
    "!pip install --upgrade jupyterthemes"
   ]
  },
  {
   "cell_type": "code",
   "execution_count": 2,
   "metadata": {
    "scrolled": true,
    "slideshow": {
     "slide_type": "slide"
    }
   },
   "outputs": [
    {
     "name": "stdout",
     "output_type": "stream",
     "text": [
      "Available Themes: \n",
      "   chesterish\n",
      "   grade3\n",
      "   monokai\n",
      "   oceans16\n",
      "   onedork\n",
      "   solarizedd\n",
      "   solarizedl\n"
     ]
    }
   ],
   "source": [
    "!jt -l"
   ]
  },
  {
   "cell_type": "code",
   "execution_count": 1,
   "metadata": {},
   "outputs": [
    {
     "name": "stdout",
     "output_type": "stream",
     "text": [
      "Collecting autopep8\n",
      "  Downloading https://pypi.doubanio.com/packages/f1/31/75b31ea8e2507822a49fca925887da7071bd6bc870852d5de896c772500a/autopep8-1.3.2-py2.py3-none-any.whl (42kB)\n",
      "Collecting pycodestyle>=2.3 (from autopep8)\n",
      "  Downloading https://pypi.doubanio.com/packages/e4/81/78fe51eb4038d1388b7217dd63770b0f428370207125047312886c923b26/pycodestyle-2.3.1-py2.py3-none-any.whl (45kB)\n",
      "Installing collected packages: pycodestyle, autopep8\n",
      "Successfully installed autopep8-1.3.2 pycodestyle-2.3.1\n"
     ]
    }
   ],
   "source": [
    "!pip install autopep8"
   ]
  },
  {
   "cell_type": "code",
   "execution_count": 3,
   "metadata": {
    "collapsed": true
   },
   "outputs": [],
   "source": [
    "!jt -t onedork"
   ]
  },
  {
   "cell_type": "code",
   "execution_count": null,
   "metadata": {
    "collapsed": true
   },
   "outputs": [],
   "source": [
    "import os \n",
    "os.path.abspath('.')\n",
    "os.path.abspath('.')"
   ]
  },
  {
   "cell_type": "code",
   "execution_count": null,
   "metadata": {
    "collapsed": true
   },
   "outputs": [],
   "source": [
    "import sys\n",
    "sys.path"
   ]
  },
  {
   "cell_type": "code",
   "execution_count": null,
   "metadata": {
    "collapsed": true
   },
   "outputs": [],
   "source": [
    "os.path.abspath('..')"
   ]
  },
  {
   "cell_type": "code",
   "execution_count": 1,
   "metadata": {},
   "outputs": [
    {
     "name": "stderr",
     "output_type": "stream",
     "text": [
      "Set level\n",
      "'DEBUG' ----> Basic log level\n",
      "\n",
      "Set level\n",
      "'DEBUG' ----> Log FileHandler\n",
      "\n",
      "SF:     Using ---> crLog(level = ('DEBUG','DEBUG','INFO'), fname = 'D:\\\\桌面\\\\Log-test.log', head = 'SF', ifile = True, cls = False)\n",
      "\n",
      "\n",
      "SF:     Building connection to Mysql...\n"
     ]
    },
    {
     "name": "stdout",
     "output_type": "stream",
     "text": [
      "('define interface to Mysql, make connection\\n',)\n",
      "('from mysql import connector\\n',)\n",
      "('from pyodbc import connect\\n',)\n",
      "(\"conn_SQL_tools = ( 'cursor',\\n\",)\n",
      "(\"    'mkcon: build connection to sql, default mysql, \\\\'mic\\\\' for sql 2000')\\n\",)\n",
      "('            mconn = connector.connect( **mconf )\\n',)\n",
      "(\"            logger.info( 'Building connection to Mysql...' )\\n\",)\n",
      "('            mconn = connect( micfg )\\n',)\n",
      "(\"            logger.info( 'Building connection to Micsql...' )\\n\",)\n",
      "(\"            raise Exception( 'Bad config for make connection to SQL' ) \\n\",)\n",
      "('        cursor = mconn.cursor()\\n',)\n",
      "(\"        logger.info( 'CONN Failure!' )\\n\",)\n",
      "('    return ( cursor, mconn ) \\n',)\n",
      "('from ..fc.conn_SQL import mkcon, pall\\n',)\n",
      "('    connect():建立与数据库的链接\\n',)\n",
      "('cursor, mconn = mkcon()\\n',)\n",
      "('def fidAdd_sql( fname, hs, cursor = cursor, mconn = mconn):\\n',)\n",
      "('        mconn.commit()\\n',)\n",
      "('from ..fc.conn_SQL import mkcon\\n',)\n",
      "('    connect():建立与数据库的链接\\n',)\n",
      "('cursor, mconn = mkcon()\\n',)\n",
      "('def fidAdd_sql( fname, hs, cursor = cursor, mconn = mconn):\\n',)\n",
      "('        mconn.commit()\\n',)\n",
      "('    def __init__( self, cursor, mconn, *a, **kw ):\\n',)\n",
      "('        self.mconn = mconn\\n',)\n",
      "('    def connect(self):\\n',)\n",
      "('FIsql = fhInsql( cursor, mconn )\\n',)\n",
      "(\"    req.add_header( 'Connection', 'keep-alive' )\\n\",)\n",
      "('from ..fc.conn_SQL import mkcon\\n',)\n",
      "('    connect():建立与数据库的链接\\n',)\n",
      "('cursor, mconn = mkcon()\\n',)\n",
      "('def fidAdd_sql( fname, hs, cursor = cursor, mconn = mconn):\\n',)\n",
      "('        mconn.commit()\\n',)\n",
      "('    Connection: keep-alive\\n',)\n",
      "('mysql.connector.errors.ProgrammingError: 1064 (42000): You have an error in your SQL syntax; check the manual that corre\\n',)\n",
      "('mysql.connector.errors.ProgrammingError: 1064 (42000): You have an error in your SQL syntax; check the manual that corre\\n',)\n",
      "('    connect():建立与数据库的链接\\n',)\n",
      "('    def connect(self):\\n',)\n",
      "('    Connection: keep-alive\\n',)\n",
      "('        # Connect Events\\n',)\n",
      "('        # Connect Events\\n',)\n",
      "('#from fc.conn_SQL import cursor, mconn \\n',)\n",
      "('from fc.conn_SQL import mkcon \\n',)\n",
      "('cursor, mconn = mkcon()\\n',)\n",
      "('                    mconn.commit()\\n',)\n",
      "('            mconn.commit()\\n',)\n",
      "('    def connection_made(self, chan):\\n',)\n",
      "('        Client connected, run repl in coroutine.\\n',)\n",
      "('Example of running the Python REPL through an SSH connection in an asyncio process.\\n',)\n",
      "('    print(\\'To connect, do \"ssh localhost -p %i\"\\' % port)\\n',)\n",
      "('#import mysql.connector\\n',)\n",
      "('My_conn = mysql.connector.connect( **my_config )\\n',)\n",
      "('my_cursor = My_conn.cursor()\\n',)\n",
      "('mic_conn = pyodbc.connect( Mic_config )\\n',)\n",
      "('mic_cursor = mic_conn.cursor()\\n',)\n",
      "('    My_conn.commit()\\n',)\n",
      "('#import mysql.connector\\n',)\n",
      "('My_conn = mysql.connector.connect( **my_config )\\n',)\n",
      "('my_cursor = My_conn.cursor()\\n',)\n",
      "('mic_conn = pyodbc.connect( Mic_config )\\n',)\n",
      "('mic_cursor = mic_conn.cursor()\\n',)\n",
      "('    My_conn.commit()\\n',)\n",
      "('import mysql.connector\\n',)\n",
      "('My_conn = mysql.connector.connect( **my_config )\\n',)\n",
      "('my_cursor = My_conn.cursor()\\n',)\n",
      "('mic_conn = pyodbc.connect( Mic_config )\\n',)\n",
      "('mic_cursor = mic_conn.cursor()\\n',)\n",
      "(\"print('import  connection OK!!')\\n\",)\n",
      "('#import mysql.connector\\n',)\n",
      "('My_conn = mysql.connector.connect( **my_config )\\n',)\n",
      "('my_cursor = My_conn.cursor()\\n',)\n",
      "('mic_conn = pyodbc.connect( Mic_config )\\n',)\n",
      "('mic_cursor = mic_conn.cursor()\\n',)\n",
      "('    My_conn.commit()\\n',)\n",
      "('#import mysql.connector\\n',)\n",
      "('import mysql.connector\\n',)\n",
      "('My_conn = mysql.connector.connect( **my_config )\\n',)\n",
      "('my_cursor = My_conn.cursor()\\n',)\n",
      "('mic_conn = pyodbc.connect( Mic_config )\\n',)\n",
      "('mic_cursor = mic_conn.cursor()\\n',)\n",
      "('    My_conn.commit()\\n',)\n",
      "('#import mysql.connector\\n',)\n",
      "('My_conn = mysql.connector.connect( **my_config )\\n',)\n",
      "('my_cursor = My_conn.cursor()\\n',)\n",
      "('mic_conn = pyodbc.connect( Mic_config )\\n',)\n",
      "('mic_cursor = mic_conn.cursor()\\n',)\n",
      "('    My_conn.commit()\\n',)\n",
      "('import mysql.connector\\n',)\n",
      "('My_conn = mysql.connector.connect( **my_config )\\n',)\n",
      "('my_cursor = My_conn.cursor()\\n',)\n",
      "('mic_conn = pyodbc.connect( Mic_config )\\n',)\n",
      "('mic_cursor = mic_conn.cursor()\\n',)\n",
      "('    My_conn.commit()\\n',)\n",
      "('#import mysql.connector\\n',)\n",
      "('My_conn = mysql.connector.connect( **my_config )\\n',)\n",
      "('my_cursor = My_conn.cursor()\\n',)\n",
      "('mic_conn = pyodbc.connect( Mic_config )\\n',)\n",
      "('mic_cursor = mic_conn.cursor()\\n',)\n",
      "('    My_conn.commit()\\n',)\n",
      "('from fc.conn_SQL import mkcon\\n',)\n",
      "('    connect():建立与数据库的链接\\n',)\n",
      "('cursor, mconn = mkcon()\\n',)\n",
      "('def fCheck( fname,cursor = cursor, mconn = mconn ):\\n',)\n",
      "('#def fRefresh_sql( nfmate , cursor = cursor, mconn = mconn ):\\n',)\n",
      "('def fRefresh_sql( nfmate , cursor = cursor, mconn = mconn ):\\n',)\n",
      "('            mconn.commit()\\n',)\n",
      "('                mconn.commit()\\n',)\n",
      "('                mconn.commit()\\n',)\n",
      "('def fidAdd_sql( fname, hs, cursor = cursor, mconn = mconn):\\n',)\n",
      "('        mconn.commit()\\n',)\n",
      "('def fidMCR_sql( fname, hs, cursor = cursor, mconn = mconn):\\n',)\n",
      "('        mconn.commit()\\n',)\n",
      "('def Del_sql( fname, cursor = cursor, mconn = mconn ):\\n',)\n",
      "('        mconn.commit()\\n',)\n",
      "('    def __init__( self, cursor, mconn, *a, **kw ):\\n',)\n",
      "('        self.mconn = mconn\\n',)\n",
      "('    def connect(self):\\n',)\n",
      "('FIsql = fhInsql( cursor, mconn )\\n',)\n",
      "('    connect():建立与数据库的链接\\n',)\n",
      "('from fc.conn_SQL import mkcon\\n',)\n",
      "('    connect():建立与数据库的链接\\n',)\n",
      "('cursor, mconn = mkcon()\\n',)\n",
      "('def fCheck( fname,cursor = cursor, mconn = mconn ):\\n',)\n",
      "('#def fRefresh_sql( nfmate , cursor = cursor, mconn = mconn ):\\n',)\n",
      "('def fRefresh_sql( nfmate , cursor = cursor, mconn = mconn ):\\n',)\n",
      "('            mconn.commit()\\n',)\n",
      "('                mconn.commit()\\n',)\n",
      "('                mconn.commit()\\n',)\n",
      "('def fidAdd_sql( fname, hs, cursor = cursor, mconn = mconn):\\n',)\n",
      "('        mconn.commit()\\n',)\n",
      "('def fidMCR_sql( fname, hs, cursor = cursor, mconn = mconn):\\n',)\n",
      "('        mconn.commit()\\n',)\n",
      "('def Del_sql( fname, cursor = cursor, mconn = mconn ):\\n',)\n",
      "('        mconn.commit()\\n',)\n",
      "('    def __init__( self, cursor, mconn, *a, **kw ):\\n',)\n",
      "('        self.mconn = mconn\\n',)\n",
      "('    def connect(self):\\n',)\n",
      "('FIsql = fhInsql( cursor, mconn )\\n',)\n",
      "('from fc.conn_SQL import mkcon\\n',)\n",
      "('    connect():建立与数据库的链接\\n',)\n",
      "('cursor, mconn = mkcon()\\n',)\n",
      "('def fCheck( fname,cursor = cursor, mconn = mconn ):\\n',)\n",
      "('#def fRefresh_sql( nfmate , cursor = cursor, mconn = mconn ):\\n',)\n",
      "('def fRefresh_sql( nfmate , cursor = cursor, mconn = mconn ):\\n',)\n",
      "('            mconn.commit()\\n',)\n",
      "('                mconn.commit()\\n',)\n",
      "('                mconn.commit()\\n',)\n",
      "('def fidAdd_sql( fname, hs, cursor = cursor, mconn = mconn):\\n',)\n",
      "('        mconn.commit()\\n',)\n",
      "('def fidMCR_sql( fname, hs, cursor = cursor, mconn = mconn):\\n',)\n",
      "('        mconn.commit()\\n',)\n",
      "('def Del_sql( fname, cursor = cursor, mconn = mconn ):\\n',)\n",
      "('        mconn.commit()\\n',)\n",
      "('    def __init__( self, cursor, mconn, *a, **kw ):\\n',)\n",
      "('        self.mconn = mconn\\n',)\n",
      "('    def connect(self):\\n',)\n",
      "('FIsql = fhInsql( cursor, mconn )\\n',)\n",
      "(\"conn = pyodbc.connect( r'driver={SQL Server}; server=localhost; database=easybook; user = saa; password = sa' )\\n\",)\n",
      "(\"conn = pyodbc.connect(r'driver={SQL Server};server=localhost;database=easybook;uid=sa;pwd=sa')\\n\",)\n",
      "('\\tmysql-connector-python\\n',)\n",
      "('\\tMysql官方提供的连接器网址：http://dev.mysql.com/downloads/connector/python/\\n',)\n",
      "('\\tpython3不再支持mysqldb 请用pymysql和mysql.connector\\n',)\n",
      "('    from .conn_SQL import mkcon\\n',)\n",
      "('    from conn_SQL import mkcon\\n',)\n",
      "('    cursor, mconn = mkcon()\\n',)\n",
      "('        mconn.commit()\\n',)\n",
      "('#from fc.conn_SQL import mkcon\\n',)\n",
      "('from fc.conn_SQL import * \\n',)\n",
      "(\"cursor, mkconn = mkcon('mic')\\n\",)\n",
      "('from .fc.conn_SQL import mkcon\\n',)\n",
      "('cursor, mconn = mkcon()\\n',)\n",
      "('from fc.conn_SQL import mkcon\\n',)\n",
      "(\"cursor, miconn = mkcon( s = 'mic' )\\n\",)\n",
      "('def importReader( fname, DepID, Rgid, cursor = cursor, miconn = miconn ):\\n',)\n",
      "(\"    logger.info('Func ----> importReader( fname, DepID, Rgid, cursor = cursor, miconn = miconn )')\\n\",)\n",
      "('    miconn.commit()\\n',)\n",
      "('define interface to Mysql, make connection\\n',)\n",
      "('from mysql import connector\\n',)\n",
      "('from pyodbc import connect\\n',)\n",
      "(\"conn_SQL_tools = ( 'cursor',\\n\",)\n",
      "(\"    'mkcon: build connection to sql, default mysql, \\\\'mic\\\\' for sql 2000')\\n\",)\n",
      "('            mconn = connector.connect( **mconf )\\n',)\n",
      "(\"            logger.info( 'Building connection to Mysql...' )\\n\",)\n",
      "('            mconn = connect( micfg )\\n',)\n",
      "(\"            logger.info( 'Building connection to Micsql...' )\\n\",)\n",
      "(\"            raise Exception( 'Bad config for make connection to SQL' ) \\n\",)\n",
      "('        cursor = mconn.cursor()\\n',)\n",
      "(\"        logger.info( 'CONN Failure!' )\\n\",)\n",
      "('    return ( cursor, mconn ) \\n',)\n"
     ]
    }
   ],
   "source": [
    "from connSql import mkcon\n",
    "import pdb\n",
    "cursor, mkconn = mkcon()\n",
    "cursor.execute('use fortest')\n",
    "cursor.execute('select line from fline_code where line regexp \\'conn\\';')\n",
    "for i in cursor.fetchall():\n",
    "    print(i)"
   ]
  },
  {
   "cell_type": "code",
   "execution_count": null,
   "metadata": {
    "collapsed": true
   },
   "outputs": [],
   "source": [
    "from connSql import mkcon"
   ]
  },
  {
   "cell_type": "code",
   "execution_count": null,
   "metadata": {
    "collapsed": true
   },
   "outputs": [],
   "source": []
  }
 ],
 "metadata": {
  "kernelspec": {
   "display_name": "Python 3",
   "language": "python",
   "name": "python3"
  },
  "language_info": {
   "codemirror_mode": {
    "name": "ipython",
    "version": 3
   },
   "file_extension": ".py",
   "mimetype": "text/x-python",
   "name": "python",
   "nbconvert_exporter": "python",
   "pygments_lexer": "ipython3",
   "version": "3.4.4"
  },
  "toc": {
   "colors": {
    "hover_highlight": "#DAA520",
    "navigate_num": "#000000",
    "navigate_text": "#333333",
    "running_highlight": "#FF0000",
    "selected_highlight": "#FFD700",
    "sidebar_border": "#EEEEEE",
    "wrapper_background": "#FFFFFF"
   },
   "moveMenuLeft": true,
   "nav_menu": {
    "height": "75px",
    "width": "208px"
   },
   "navigate_menu": true,
   "number_sections": true,
   "sideBar": true,
   "threshold": 4,
   "toc_cell": false,
   "toc_section_display": "block",
   "toc_window_display": false,
   "widenNotebook": false
  }
 },
 "nbformat": 4,
 "nbformat_minor": 2
}
