{
 "cells": [
  {
   "cell_type": "code",
   "execution_count": null,
   "metadata": {
    "collapsed": true
   },
   "outputs": [],
   "source": [
    "#Model\n",
    "path = ''\n",
    "fname = ''\n",
    "#position 0: 位置关键词， 1: 位置大致行数\n",
    "position = ['', 0]\n",
    "#delete 变更前的行或删除的行或将要被注释的行\n",
    "delete = []\n",
    "#add 新增行或变更后的行 \n",
    "add = []"
   ]
  },
  {
   "cell_type": "code",
   "execution_count": 3,
   "metadata": {},
   "outputs": [
    {
     "ename": "SyntaxError",
     "evalue": "invalid syntax (<ipython-input-3-ed284e149242>, line 4)",
     "output_type": "error",
     "traceback": [
      "\u001b[1;36m  File \u001b[1;32m\"<ipython-input-3-ed284e149242>\"\u001b[1;36m, line \u001b[1;32m4\u001b[0m\n\u001b[1;33m    position = ['customcss = open(css_path, \"r\").read()', 393, 'with open(jupyter_customcss, 'w') as custom_css:', 72, \"style_less += '@output-font-size: {}pt; \\n'.format(outfontsize)\", 168]\u001b[0m\n\u001b[1;37m                                                                                              ^\u001b[0m\n\u001b[1;31mSyntaxError\u001b[0m\u001b[1;31m:\u001b[0m invalid syntax\n"
     ]
    }
   ],
   "source": [
    "path = 'C:\\Python34\\Lib\\site-packages\\jupyterthemes'\n",
    "fname = 'stylefx.py'\n",
    "#position 0: 位置关键词， 1: 位置大致行数\n",
    "position = ['customcss = open(css_path, \"r\").read()', 393, 'with open(jupyter_customcss, 'w') as custom_css:', 72, \"style_less += '@output-font-size: {}pt; \\n'.format(outfontsize)\", 168]\n",
    "#delete 变更前的行或删除的行或将要被注释的行\n",
    "delete = []\n",
    "#add 新增行或变更后的行 \n",
    "add = []"
   ]
  },
  {
   "cell_type": "code",
   "execution_count": 4,
   "metadata": {
    "collapsed": true
   },
   "outputs": [],
   "source": [
    "path = 'C:\\Python34\\Lib\\site-packages\\jupyterthemes\\layout'\n",
    "fname = 'cell.less'\n",
    "#position 0: 位置关键词， 1: 位置大致行数\n",
    "position = ['div.output_subarea.output_text.output_stream.output_stdout,', 181]\n",
    "#delete 变更前的行或删除的行或将要被注释的行\n",
    "delete = []\n",
    "#add 新增行或变更后的行 \n",
    "add = []"
   ]
  },
  {
   "cell_type": "code",
   "execution_count": null,
   "metadata": {
    "collapsed": true
   },
   "outputs": [],
   "source": [
    "path = 'C:\\Python34\\Lib\\site-packages\\jupyterthemes\\layout'\n",
    "fname = 'codemirror.less'\n",
    "#position 0: 位置关键词， 1: 位置大致行数\n",
    "position = ['.cm-s-ipython.CodeMirror', 115]\n",
    "#delete 变更前的行或删除的行或将要被注释的行\n",
    "delete = []\n",
    "#add 新增行或变更后的行 \n",
    "add = []"
   ]
  },
  {
   "cell_type": "code",
   "execution_count": null,
   "metadata": {
    "collapsed": true
   },
   "outputs": [],
   "source": [
    "path = 'C:\\Python34\\Lib\\site-packages\\jupyterthemes\\styles\\compiled'\n",
    "fname = 'onedork.css'\n",
    "#position 0: 位置关键词， 1: 位置大致行数\n",
    "position = ['.cm-s-ipython.CodeMirror', 2584]\n",
    "#delete 变更前的行或删除的行或将要被注释的行\n",
    "delete = ['font-size: 11pt;',]\n",
    "#add 新增行或变更后的行 \n",
    "add = ['font-size: 12.5pt;',]"
   ]
  },
  {
   "cell_type": "code",
   "execution_count": null,
   "metadata": {
    "collapsed": true
   },
   "outputs": [],
   "source": [
    "path = 'C:\\Python34\\Lib\\site-packages\\jupyterthemes\\styles\\compiled'\n",
    "fname = 'onedork.css'\n",
    "#position 0: 位置关键词， 1: 位置大致行数\n",
    "position = ['div.output_subarea.output_text.output_stream.output_stdout,', 1399]\n",
    "#delete 变更前的行或删除的行或将要被注释的行\n",
    "delete = ['font-size: 8.5pt !important;',]\n",
    "#add 新增行或变更后的行 \n",
    "add = ['font-size: 10.5pt !important;',]"
   ]
  },
  {
   "cell_type": "code",
   "execution_count": 1,
   "metadata": {},
   "outputs": [
    {
     "ename": "SyntaxError",
     "evalue": "(unicode error) 'unicodeescape' codec can't decode bytes in position 2-3: truncated \\uXXXX escape (<ipython-input-1-444616fb9349>, line 1)",
     "output_type": "error",
     "traceback": [
      "\u001b[1;36m  File \u001b[1;32m\"<ipython-input-1-444616fb9349>\"\u001b[1;36m, line \u001b[1;32m1\u001b[0m\n\u001b[1;33m    path = 'C:\\users\\lenovo\\.jupyter\\custom'\u001b[0m\n\u001b[1;37m          ^\u001b[0m\n\u001b[1;31mSyntaxError\u001b[0m\u001b[1;31m:\u001b[0m (unicode error) 'unicodeescape' codec can't decode bytes in position 2-3: truncated \\uXXXX escape\n"
     ]
    }
   ],
   "source": [
    "path = 'C:\\users\\lenovo\\.jupyter\\custom'\n",
    "fname = 'custom.css'\n",
    "#position 0: 位置关键词， 1: 位置大致行数\n",
    "#delete 变更前的行或删除的行或将要被注释的行\n",
    "#add 新增行或变更后的行 \n",
    "\n",
    "position1 = ['div.output_area pre', 1415 ]\n",
    "delete1 = ['font-size: 8.5pt !important;']\n",
    "add1 = ['font-size: 12pt !important;']\n",
    "\n",
    "position2 = ['div.celltoolbar', 1500 ]\n",
    "delete2 = []\n",
    "add2 = ['border: thin solid #000;','background: #000;']\n",
    "\n",
    "position0 = ['div.CodeMirror, div.CodeMirror pre', 2489 ]\n",
    "delete0 = ['font-size: 11pt;']\n",
    "add0 = ['font-size: 12.5pt;']\n",
    "\n",
    "position = ['.cm-s-ipython.CodeMirror ', 2580]\n",
    "delete = ['font-size: 11pt;', 'background: #2c303c;']\n",
    "add = ['font-size: 12.5pt;', 'background: #204b56;']\n",
    "\n",
    "position3 = ['div#maintoolbar', 2793]\n",
    "delete3 = ['display: none !important;']\n",
    "add3 = ['/*display: none !important;*/']\n"
   ]
  },
  {
   "cell_type": "code",
   "execution_count": 5,
   "metadata": {},
   "outputs": [
    {
     "ename": "SyntaxError",
     "evalue": "(unicode error) 'unicodeescape' codec can't decode bytes in position 2-3: truncated \\uXXXX escape (<ipython-input-5-c0f3c1e730a8>, line 1)",
     "output_type": "error",
     "traceback": [
      "\u001b[1;36m  File \u001b[1;32m\"<ipython-input-5-c0f3c1e730a8>\"\u001b[1;36m, line \u001b[1;32m1\u001b[0m\n\u001b[1;33m    path = 'C:\\users\\lenovo\\.jupyter\\custom'\u001b[0m\n\u001b[1;37m          ^\u001b[0m\n\u001b[1;31mSyntaxError\u001b[0m\u001b[1;31m:\u001b[0m (unicode error) 'unicodeescape' codec can't decode bytes in position 2-3: truncated \\uXXXX escape\n"
     ]
    }
   ],
   "source": [
    "path = 'C:\\users\\lenovo\\.jupyter\\custom'\n",
    "fname = 'custom.css'\n",
    "#position 0: 位置关键词， 1: 位置大致行数\n",
    "position = ['.edit_mode .cell.selected .CodeMirror-focused.cm-fat-cursor', 2830,]\n",
    "#delete 变更前的行或删除的行或将要被注释的行\n",
    "delete = []\n",
    "#add 新增行或变更后的行 \n",
    "add = [ \"\"\"/* Jupyter cell is in normal mode when code mirror */\n",
    "/*Here is a bug, the statement below has no effection.*/\n",
    "/*So, Edit the \"C:\\ProgramData\\jupyter\\nbextensions\\vim_binding\\vim_binding.css\" directly! */\n",
    ".edit_mode .cell.selected .CodeMirror-focused.cm-fat-cursor {\n",
    "  background-color: #CF000D !important;\n",
    "}\n",
    "\n",
    "/* Jupyter cell is in insert mode when code mirror */\n",
    ".edit_mode .cell.selected .CodeMirror-focused:not(.cm-fat-cursor) {\n",
    "  background-color: #0B2A35 !important;\n",
    "}\"\"\", ]\n",
    " "
   ]
  }
 ],
 "metadata": {
  "kernelspec": {
   "display_name": "Python 3",
   "language": "python",
   "name": "python3"
  },
  "language_info": {
   "codemirror_mode": {
    "name": "ipython",
    "version": 3
   },
   "file_extension": ".py",
   "mimetype": "text/x-python",
   "name": "python",
   "nbconvert_exporter": "python",
   "pygments_lexer": "ipython3",
   "version": "3.4.4"
  },
  "toc": {
   "colors": {
    "hover_highlight": "#DAA520",
    "navigate_num": "#000000",
    "navigate_text": "#333333",
    "running_highlight": "#FF0000",
    "selected_highlight": "#FFD700",
    "sidebar_border": "#EEEEEE",
    "wrapper_background": "#FFFFFF"
   },
   "moveMenuLeft": true,
   "nav_menu": {
    "height": "3px",
    "width": "253px"
   },
   "navigate_menu": true,
   "number_sections": true,
   "sideBar": true,
   "threshold": 4,
   "toc_cell": false,
   "toc_section_display": "block",
   "toc_window_display": false,
   "widenNotebook": false
  }
 },
 "nbformat": 4,
 "nbformat_minor": 2
}
