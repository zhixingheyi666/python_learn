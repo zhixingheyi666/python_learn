{
 "cells": [
  {
   "cell_type": "code",
   "execution_count": null,
   "metadata": {
    "collapsed": true
   },
   "outputs": [],
   "source": [
    "\"\"\"\n",
    "jinja2         in c:\\python34\\lib\\site-packages (from nbconvert->jupyter)\n",
    "tornado>=4         in c:\\python34\\lib\\site-packages (from notebook->jupyter)\n",
    "html5lib>=0.99999999         in c:\\python34\\lib\\site-packages (from bleach->nbconvert->jupyter)\n",
    "==================================================================================================\n",
    "\n",
    "jupyter         in c:\\python34\\lib\\site-packages\n",
    "nbconvert         in c:\\python34\\lib\\site-packages (from jupyter)\n",
    "notebook         in c:\\python34\\lib\\site-packages (from jupyter)\n",
    "ipywidgets         in c:\\python34\\lib\\site-packages (from jupyter)\n",
    "qtconsole         in c:\\python34\\lib\\site-packages (from jupyter)\n",
    "ipykernel         in c:\\python34\\lib\\site-packages (from jupyter)\n",
    "jupyter-console         in c:\\python34\\lib\\site-packages (from jupyter)\n",
    "entrypoints>=0.2.2         in c:\\python34\\lib\\site-packages (from nbconvert->jupyter)\n",
    "pygments         in c:\\python34\\lib\\site-packages (from nbconvert->jupyter)\n",
    "bleach         in c:\\python34\\lib\\site-packages (from nbconvert->jupyter)\n",
    "mistune!=0.6         in c:\\python34\\lib\\site-packages (from nbconvert->jupyter)\n",
    "nbformat         in c:\\python34\\lib\\site-packages (from nbconvert->jupyter)\n",
    "traitlets>=4.2         in c:\\python34\\lib\\site-packages (from nbconvert->jupyter)\n",
    "pandocfilters>=1.4.1         in c:\\python34\\lib\\site-packages (from nbconvert->jupyter)\n",
    "testpath         in c:\\python34\\lib\\site-packages (from nbconvert->jupyter)\n",
    "jupyter-core         in c:\\python34\\lib\\site-packages (from nbconvert->jupyter)\n",
    "jupyter-client         in c:\\python34\\lib\\site-packages (from notebook->jupyter)\n",
    "ipython-genutils         in c:\\python34\\lib\\site-packages (from notebook->jupyter)\n",
    "widgetsnbextension~=2.0.0         in c:\\python34\\lib\\site-packages (from ipywidgets->jupyter)\n",
    "ipython>=4.0.0         in c:\\python34\\lib\\site-packages (from ipywidgets->jupyter)\n",
    "prompt-toolkit<2.0.0,>=1.0.0         in c:\\python34\\lib\\site-packages (from jupyter-console->jupyter)\n",
    "six         in c:\\python34\\lib\\site-packages (from bleach->nbconvert->jupyter)\n",
    "MarkupSafe>=0.23         in c:\\python34\\lib\\site-packages (from jinja2->nbconvert->jupyter)\n",
    "jsonschema!=2.5.0,>=2.4         in c:\\python34\\lib\\site-packages (from nbformat->nbconvert->jupyter)\n",
    "decorator         in c:\\python34\\lib\\site-packages (from traitlets>=4.2->nbconvert->jupyter)\n",
    "pyzmq>=13         in c:\\python34\\lib\\site-packages (from jupyter-client->notebook->jupyter)\n",
    "python-dateutil>=2.1         in c:\\python34\\lib\\site-packages (from jupyter-client->notebook->jupyter)\n",
    "backports-abc>=0.4         in c:\\python34\\lib\\site-packages (from tornado>=4->notebook->jupyter)\n",
    "colorama; sys_platform == \"win32\"         in c:\\python34\\lib\\site-packages (from ipython>=4.0.0->ipywidgets->jupyter)\n",
    "pickleshare         in c:\\python34\\lib\\site-packages (from ipython>=4.0.0->ipywidgets->jupyter)\n",
    "simplegeneric>0.8         in c:\\python34\\lib\\site-packages (from ipython>=4.0.0->ipywidgets->jupyter)\n",
    "setuptools>=18.5         in c:\\python34\\lib\\site-packages (from ipython>=4.0.0->ipywidgets->jupyter)\n",
    "win-unicode-console>=0.5; sys_platform == \"win32\" and python_version < \"3.6\"         in c:\\python34\\lib\\site-packages (from ipython>=4.0.0->ipywidgets->jupyter)\n",
    "typing; python_version <= \"3.4\"         in c:\\python34\\lib\\site-packages (from ipython>=4.0.0->ipywidgets->jupyter)\n",
    "jedi>=0.10         in c:\\python34\\lib\\site-packages (from ipython>=4.0.0->ipywidgets->jupyter)\n",
    "wcwidth         in c:\\python34\\lib\\site-packages (from prompt-toolkit<2.0.0,>=1.0.0->jupyter-console->jupyter)\n",
    "webencodings         in c:\\python34\\lib\\site-packages (from html5lib>=0.99999999->bleach->nbconvert->jupyter)\n",
    "\"\"\""
   ]
  }
 ],
 "metadata": {
  "kernelspec": {
   "display_name": "Python 3",
   "language": "python",
   "name": "python3"
  },
  "language_info": {
   "codemirror_mode": {
    "name": "ipython",
    "version": 3
   },
   "file_extension": ".py",
   "mimetype": "text/x-python",
   "name": "python",
   "nbconvert_exporter": "python",
   "pygments_lexer": "ipython3",
   "version": "3.4.4"
  },
  "toc": {
   "colors": {
    "hover_highlight": "#DAA520",
    "navigate_num": "#000000",
    "navigate_text": "#333333",
    "running_highlight": "#FF0000",
    "selected_highlight": "#FFD700",
    "sidebar_border": "#EEEEEE",
    "wrapper_background": "#FFFFFF"
   },
   "moveMenuLeft": true,
   "nav_menu": {
    "height": "3px",
    "width": "253px"
   },
   "navigate_menu": true,
   "number_sections": true,
   "sideBar": true,
   "threshold": 4,
   "toc_cell": false,
   "toc_section_display": "block",
   "toc_window_display": false,
   "widenNotebook": false
  }
 },
 "nbformat": 4,
 "nbformat_minor": 2
}
