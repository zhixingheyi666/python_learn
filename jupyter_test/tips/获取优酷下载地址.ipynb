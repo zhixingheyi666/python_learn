{
 "cells": [
  {
   "cell_type": "markdown",
   "metadata": {},
   "source": [
    "#其他网站嵌入  <优酷视频>， 如何找到 <原本的> 播放地址\n",
    "    1.首先用火狐浏览器打开其他网站的播放页面，点击播放视频。\n",
    "    2.按F12打开浏览器控制台，点击控制台中的 <网络> 选项\n",
    "    3.在控制台网络窗口中会有很多 <GET>, 如\n",
    "        GET http://gm.mmstat.com/yt/youkuplayer.fdl.send\n",
    "        GET http://27.221.100.83/youku/65732D485164A840F1DC142E06/03000207005630E7AD6E9708F8DFCCE8BAC539-3B64-0DA4-9052-78F7791FF1E7.flv\n",
    "     4.点击上面样子的 <GET> 期中一个，在里面的 <请求头> 中找到 <Referer> 参数\n",
    "     5.复制期中内容得到如下地址：http://static.youku.com/v20170320.0/v/custom/upsplayer/player.swf?vcode=XMTM3MjA1MzQyOA%3D%3D&clientId=c7c8687ee9069cd7&partnerId=c7c8687ee9069cd7&autoPlay=true&isShowRelatedVideo=false&playerId=ykos&cna=N2V7EM8%252F%2BQECASdIMlR0dEWd&vext=pid%253Dc7c8687ee9069cd7%2526emb%253DMTE5LjE4Ni42NC43NwIzNDMwMTMzNTcCd3d3LnNwOTEwLmNvbQIvTW92aWUvU3A5MTBfU3dmX1BsYXkuYXNw%2526bc%253D%2526cna%253DN2V7EM8%252F%2BQECASdIMlR0dEWd%2526vvlogext%253Dpc_i%25253D1475630598239lZG%252526pc_u%25253D-%252526rvpvid%25253D-%252526rycid%25253D-%252526yvft%25253D1500384429000%252526vsidc%25253D1%252526seid%25253D1500384429654DUM%252526vstp%25253D5%252526svstp%25253D8%2526embsig%253D1_1500420510_cb8ad4a72074ff47cd412a25b894ddc4\n",
    "     6.字符串 vcode= 和后面第一个 % 符号之间的参数就是 <视频地址> 参数，\n",
    "     如上面的 <XMTM3MjA1MzQyOA>，用这个参数构造如下链接，就可以得到从<优酷网站播放本视频的URL>\n",
    "     这个URL可以用于<客户端的下载>\n",
    "     http://v.youku.com/v_show/id_*==.htm 用上面参数代替*号，得到播放URL，如\n",
    "     http://v.youku.com/v_show/id_XMTM3MjA1MzQyOA==.htm\n",
    "         "
   ]
  },
  {
   "cell_type": "code",
   "execution_count": null,
   "metadata": {
    "collapsed": true
   },
   "outputs": [],
   "source": []
  }
 ],
 "metadata": {
  "kernelspec": {
   "display_name": "Python 3",
   "language": "python",
   "name": "python3"
  },
  "language_info": {
   "codemirror_mode": {
    "name": "ipython",
    "version": 3
   },
   "file_extension": ".py",
   "mimetype": "text/x-python",
   "name": "python",
   "nbconvert_exporter": "python",
   "pygments_lexer": "ipython3",
   "version": "3.4.4"
  },
  "toc": {
   "colors": {
    "hover_highlight": "#DAA520",
    "navigate_num": "#000000",
    "navigate_text": "#333333",
    "running_highlight": "#FF0000",
    "selected_highlight": "#FFD700",
    "sidebar_border": "#EEEEEE",
    "wrapper_background": "#FFFFFF"
   },
   "moveMenuLeft": true,
   "nav_menu": {
    "height": "3px",
    "width": "253px"
   },
   "navigate_menu": true,
   "number_sections": true,
   "sideBar": true,
   "threshold": 4,
   "toc_cell": false,
   "toc_section_display": "block",
   "toc_window_display": false,
   "widenNotebook": false
  }
 },
 "nbformat": 4,
 "nbformat_minor": 2
}
