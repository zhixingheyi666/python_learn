{
 "cells": [
  {
   "cell_type": "markdown",
   "metadata": {},
   "source": [
    "#章节：使用元类\n",
    "教程地址：\n",
    "https://www.liaoxuefeng.com/wiki/0014316089557264a6b348958f449949df42a6d3a2e542c000/0014319106919344c4ef8b1e04c48778bb45796e0335839000\n",
    "参考代码地址：\n",
    "https://github.com/michaelliao/learn-python3/blob/master/samples/oop_advance/orm.py\n",
    "https://github.com/michaelliao/learn-python3/blob/master/samples/oop_advance/use_metaclass.py\n",
    "https://github.com/michaelliao/learn-python3/blob/master/samples/oop_advance/use_metaclass.py"
   ]
  },
  {
   "cell_type": "code",
   "execution_count": 1,
   "metadata": {},
   "outputs": [
    {
     "name": "stderr",
     "output_type": "stream",
     "text": [
      "Set level\n",
      "'DEBUG' ----> Basic log level\n",
      "\n",
      "Set level\n",
      "'DEBUG' ----> Log FileHandler\n",
      "\n",
      "SF:     Using ---> crLog(level = ('DEBUG','DEBUG','INFO'), fname = 'D:\\\\桌面\\\\Log-test.log', head = 'SF', ifile = True, cls = False)\n",
      "\n",
      "\n"
     ]
    }
   ],
   "source": [
    "import asyncio, aiomysql\n",
    "import sys\n",
    "sysFc = 'D:\\\\python_learn\\\\sysFc'\n",
    "sys.path.append(sysFc)\n",
    "from logSf10 import crLog\n",
    "logger = crLog()"
   ]
  },
  {
   "cell_type": "code",
   "execution_count": 2,
   "metadata": {
    "collapsed": true
   },
   "outputs": [],
   "source": [
    "# metaclass是类的模板，所以必须从`type`类型派生：\n",
    "class ListMetaclass(type):\n",
    "    def __new__(cls, name, bases, attrs):\n",
    "        attrs['add'] = lambda self, value: self.append(value)\n",
    "        return type.__new__(cls, name, bases, attrs)\n",
    "\n",
    "class Mylist(list, metaclass = ListMetaclass):\n",
    "    pass"
   ]
  },
  {
   "cell_type": "code",
   "execution_count": 3,
   "metadata": {
    "collapsed": true
   },
   "outputs": [],
   "source": [
    "L = Mylist()\n",
    "L2 = list()"
   ]
  },
  {
   "cell_type": "code",
   "execution_count": 4,
   "metadata": {},
   "outputs": [
    {
     "data": {
      "text/plain": [
       "[2, 22]"
      ]
     },
     "execution_count": 4,
     "metadata": {},
     "output_type": "execute_result"
    }
   ],
   "source": [
    "L.add(2)\n",
    "L.append(22)\n",
    "L"
   ]
  },
  {
   "cell_type": "code",
   "execution_count": 5,
   "metadata": {},
   "outputs": [
    {
     "ename": "AttributeError",
     "evalue": "'list' object has no attribute 'add'",
     "output_type": "error",
     "traceback": [
      "\u001b[1;31m---------------------------------------------------------------------------\u001b[0m",
      "\u001b[1;31mAttributeError\u001b[0m                            Traceback (most recent call last)",
      "\u001b[1;32m<ipython-input-5-caa0ef06cb42>\u001b[0m in \u001b[0;36m<module>\u001b[1;34m()\u001b[0m\n\u001b[1;32m----> 1\u001b[1;33m \u001b[0mL2\u001b[0m\u001b[1;33m.\u001b[0m\u001b[0madd\u001b[0m\u001b[1;33m(\u001b[0m\u001b[1;36m2\u001b[0m\u001b[1;33m)\u001b[0m\u001b[1;33m\u001b[0m\u001b[0m\n\u001b[0m",
      "\u001b[1;31mAttributeError\u001b[0m: 'list' object has no attribute 'add'"
     ]
    }
   ],
   "source": [
    "L2.add(2)"
   ]
  },
  {
   "cell_type": "code",
   "execution_count": 38,
   "metadata": {
    "collapsed": true
   },
   "outputs": [],
   "source": [
    "class Field(object):\n",
    "    #def __init__(self, name, column_type, primary_key, default):\n",
    "    def __init__(self, name, column_type):\n",
    "        self.name = name\n",
    "        self.column_type = column_type\n",
    "#      self.primary_key = primary_key\n",
    "#      self.default = default\n",
    "        \n",
    "    def __str__(self):\n",
    "#        return '<%s, %s:%s>' % ( self.__class__.__name__, self.column_type, self.name )\n",
    "        return '<%s:%s>' % ( self.__class__.__name__, self.name )\n",
    "    \n",
    "class StringField(Field):\n",
    "#    def __init__(self, name = None, primary_key = False, default = None, ddl = 'varchar(100)'):\n",
    "#        super.__init__(name, ddl, primary_key, default)\n",
    "    def __init__(self, name):\n",
    "        super(StringField, self).__init__(name, 'varchar(100)')\n",
    "        \n",
    "class IntegerField(Field):\n",
    "    def __init__(self, name):\n",
    "        super(IntegerField, self).__init__(name, 'bigint')\n",
    "        \n",
    "class ModelMetaclass(type):\n",
    "    def __new__(cls ,name, bases, attrs):\n",
    "        #排除Model类本身\n",
    "        if name == 'Model':\n",
    "            return type.__new__(cls, name, bases, attrs)\n",
    "        #获取table名称：\n",
    "        #tableName = attrs.get('__table__', None) or name\n",
    "        #logger.info('Found mode: %s (table: %s)' % (name, tableName))\n",
    "        #获取所有的Field和主键名称\n",
    "        mappings = dict()\n",
    "        for k, v in attrs.items():\n",
    "            if isinstance(v, Field):\n",
    "                logger.info('Found mapping: %s --> %s' % (k, v))\n",
    "                mappings[k] = v\n",
    "        for k in mappings.keys():\n",
    "            attrs.pop(k)\n",
    "        attrs['__mappings__'] = mappings #保存属性和映射的关系\n",
    "        #attrs['__table__'] = tableName\n",
    "        attrs['__table__'] = name #假设表名和类名一致\n",
    "        # 构造默认的SELECT, INSERT, UPDATE和DELETE语句:\n",
    "        #attrs['__select__'] = 'select `%s`, %s from `%s`' % (primaryKey, ','.join(escaped_fields), from tableName)\n",
    "        #attrs['__insert__'] = 'insert into `%s` (%s, `%s`) values (%s)' % (tableName, ','.join(escaped_fields), primaryKey, creat_args_string(len(escaped_fields) + 1))\n",
    "        #attrs['__update__'] = 'update `%s` set %s where `%s` = ?' % (tableName, ','.join(map(lambda f: '`%s` = ?' % (mappings.get(f).name or f), fields)), primaryKey)\n",
    "        #attrs['__delete__'] = 'delete from %s where `%s` = ? ' % (tableName, primaryKey)\n",
    "        return type.__new__(cls, name, bases, attrs)\n",
    "    "
   ]
  },
  {
   "cell_type": "code",
   "execution_count": 39,
   "metadata": {},
   "outputs": [],
   "source": [
    "class Model(dict, metaclass=ModelMetaclass):\n",
    "\n",
    "    def __init__(self, **kw):\n",
    "        super(Model, self).__init__(**kw)\n",
    "        #for kkw in **kw:\n",
    "        #    l.append(str(kkw))\n",
    "        #logger.info('%s' % str(kkw))\n",
    "\n",
    "    def __getatttr__(self, key):\n",
    "        try:\n",
    "            return self[key]\n",
    "        except KeyError:\n",
    "            raise AttributeError(r\"'Model' object has no attribute '%s'\" % key)\n",
    "\n",
    "    def __setattr__(self, key, value):\n",
    "        self[key] = value\n",
    "\n",
    "    def save(self):\n",
    "        fields = []\n",
    "        params = []\n",
    "        args = []\n",
    "        for k, v in self.__mappings__.items():\n",
    "            fields.append(v.name)\n",
    "            params.append('?')\n",
    "            args.append(getattr(self, k, None))\n",
    "        sql = 'insert into %s (%s) values (%s)' % (self.__table__, ','.join(fields), ','.join(params))\n",
    "        print('SQL: %s' % sql)\n",
    "        print('ARGS: %s' % str(args))"
   ]
  },
  {
   "cell_type": "code",
   "execution_count": 41,
   "metadata": {},
   "outputs": [
    {
     "name": "stderr",
     "output_type": "stream",
     "text": [
      "SF:     Found mapping: password --> <StringField:password>\n",
      "SF:     Found mapping: email --> <StringField:email>\n",
      "SF:     Found mapping: name --> <StringField:username>\n"
     ]
    },
    {
     "name": "stdout",
     "output_type": "stream",
     "text": [
      "SQL: insert into User (password,username,email) values (?,?,?)\n",
      "ARGS: [<__main__.StringField object at 0x0000000006B691D0>, <__main__.StringField object at 0x0000000006B69128>, <__main__.StringField object at 0x0000000006B69198>]\n"
     ]
    }
   ],
   "source": [
    "class User(Model):\n",
    "    # 定义类的属性到列的映射\n",
    "    #id = IntegerField('id')\n",
    "    name = StringField('username')\n",
    "    email = StringField('email')\n",
    "    password = StringField('password')\n",
    "    \n",
    "# 创建一个实例:\n",
    "u = User(id = 123345, name = 'Michael', email = 'test@orm.org', password = 'mypass')\n",
    "\n",
    "# 保存到数据库:\n",
    "u.save()"
   ]
  },
  {
   "cell_type": "code",
   "execution_count": 16,
   "metadata": {},
   "outputs": [
    {
     "name": "stdout",
     "output_type": "stream",
     "text": [
      "SQL: insert into User (password,username,email) values (?,?,?)\n",
      "ARGS: [<__main__.StringField object at 0x00000000065C8240>, <__main__.StringField object at 0x00000000065C8198>, <__main__.StringField object at 0x00000000065C81D0>]\n"
     ]
    }
   ],
   "source": [
    "u = User(id=12345, name='Michael', email='test@orm.org', password='my-pwd')\n",
    "u.save()"
   ]
  },
  {
   "cell_type": "code",
   "execution_count": 36,
   "metadata": {},
   "outputs": [
    {
     "data": {
      "text/plain": [
       "{'df': 'dfdf',\n",
       " 'email': 'test@orm.org',\n",
       " 'id': 12345,\n",
       " 'name': 'Michael',\n",
       " 'password': 'my-pwd'}"
      ]
     },
     "execution_count": 36,
     "metadata": {},
     "output_type": "execute_result"
    }
   ],
   "source": [
    "u['df']='dfdf'\n",
    "u"
   ]
  }
 ],
 "metadata": {
  "kernelspec": {
   "display_name": "Python 3",
   "language": "python",
   "name": "python3"
  },
  "language_info": {
   "codemirror_mode": {
    "name": "ipython",
    "version": 3
   },
   "file_extension": ".py",
   "mimetype": "text/x-python",
   "name": "python",
   "nbconvert_exporter": "python",
   "pygments_lexer": "ipython3",
   "version": "3.4.4"
  },
  "toc": {
   "colors": {
    "hover_highlight": "#DAA520",
    "navigate_num": "#000000",
    "navigate_text": "#333333",
    "running_highlight": "#FF0000",
    "selected_highlight": "#FFD700",
    "sidebar_border": "#EEEEEE",
    "wrapper_background": "#FFFFFF"
   },
   "moveMenuLeft": true,
   "nav_menu": {
    "height": "3px",
    "width": "253px"
   },
   "navigate_menu": true,
   "number_sections": true,
   "sideBar": true,
   "threshold": 4,
   "toc_cell": false,
   "toc_section_display": "block",
   "toc_window_display": false,
   "widenNotebook": false
  }
 },
 "nbformat": 4,
 "nbformat_minor": 2
}
