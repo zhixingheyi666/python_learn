{
 "cells": [
  {
   "cell_type": "code",
   "execution_count": 2,
   "metadata": {
    "collapsed": true
   },
   "outputs": [],
   "source": [
    " def now():\n",
    "    print('2015-3-25')"
   ]
  },
  {
   "cell_type": "code",
   "execution_count": 13,
   "metadata": {},
   "outputs": [
    {
     "name": "stdout",
     "output_type": "stream",
     "text": [
      "2015-3-25\n"
     ]
    },
    {
     "data": {
      "text/plain": [
       "'now'"
      ]
     },
     "execution_count": 13,
     "metadata": {},
     "output_type": "execute_result"
    }
   ],
   "source": [
    "f = now\n",
    "f()\n",
    "now.__name__"
   ]
  },
  {
   "cell_type": "code",
   "execution_count": 15,
   "metadata": {},
   "outputs": [
    {
     "data": {
      "text/plain": [
       "'now'"
      ]
     },
     "execution_count": 15,
     "metadata": {},
     "output_type": "execute_result"
    }
   ],
   "source": [
    "f.__name__"
   ]
  },
  {
   "cell_type": "code",
   "execution_count": 17,
   "metadata": {
    "collapsed": true
   },
   "outputs": [],
   "source": [
    "def log(func):\n",
    "    def wrapper(*args, **kw):\n",
    "        print('call %s():' % func.__name__)\n",
    "        return func(*args, **kw)\n",
    "    return wrapper"
   ]
  },
  {
   "cell_type": "code",
   "execution_count": 19,
   "metadata": {},
   "outputs": [],
   "source": [
    "@log\n",
    "def now():\n",
    "   print('2015-3-25')"
   ]
  },
  {
   "cell_type": "code",
   "execution_count": 20,
   "metadata": {},
   "outputs": [
    {
     "name": "stdout",
     "output_type": "stream",
     "text": [
      "call now():\n",
      "2015-3-25\n"
     ]
    }
   ],
   "source": [
    "now()"
   ]
  },
  {
   "cell_type": "code",
   "execution_count": 39,
   "metadata": {
    "collapsed": true
   },
   "outputs": [],
   "source": [
    "def logI(func):\n",
    "    def my_now(*args, **kw):\n",
    "        print('I call %s():' % func.__name__)\n",
    "        return func(*args, **kw)\n",
    "    return my_now\n",
    "#注意，经过装饰器修饰后，返回的是wrapper(这里我定义的是my_now)，这个wrapper仍然用被装饰器修饰之前的函数的名字\n",
    "#但是调用原函数实际上是调用了这个wrapper装饰器函数，这里wrapper的参数设置为（*arg， **kw）表示可以接受任意参数，是为了扩大装饰器的适用范围"
   ]
  },
  {
   "cell_type": "code",
   "execution_count": 40,
   "metadata": {
    "collapsed": true
   },
   "outputs": [],
   "source": [
    "@logI\n",
    "def now():\n",
    "   print('2015-3-25')"
   ]
  },
  {
   "cell_type": "code",
   "execution_count": null,
   "metadata": {
    "collapsed": true
   },
   "outputs": [],
   "source": [
    "now()"
   ]
  },
  {
   "cell_type": "code",
   "execution_count": null,
   "metadata": {
    "collapsed": true
   },
   "outputs": [],
   "source": [
    "def logII(func):\n",
    "    def my_now(*arg):\n",
    "        print('II call %s():' % func.__name__)\n",
    "        return func(*arg)\n",
    "    return my_now\n",
    "#注意，经过装饰器修饰后，返回的是wrapper(这里我定义的是my_now)，这个wrapper仍然用被装饰器修饰之前的函数的名字"
   ]
  },
  {
   "cell_type": "code",
   "execution_count": 37,
   "metadata": {},
   "outputs": [],
   "source": [
    "@logII\n",
    "def now():\n",
    "   print('2015-3-25')"
   ]
  },
  {
   "cell_type": "code",
   "execution_count": 38,
   "metadata": {},
   "outputs": [
    {
     "name": "stdout",
     "output_type": "stream",
     "text": [
      "II call now():\n",
      "2015-3-25\n"
     ]
    }
   ],
   "source": [
    "now()"
   ]
  },
  {
   "cell_type": "code",
   "execution_count": 44,
   "metadata": {
    "collapsed": true
   },
   "outputs": [],
   "source": [
    "def logIII(func):\n",
    "    def my_now(argI):\n",
    "        print('III call %s():' % func.__name__)\n",
    "        return func(argI)\n",
    "    return my_now\n",
    "#注意，经过装饰器修饰后，返回的是wrapper(这里我定义的是my_now)，这个wrapper仍然用被装饰器修饰之前的函数的名字"
   ]
  },
  {
   "cell_type": "code",
   "execution_count": 49,
   "metadata": {},
   "outputs": [],
   "source": [
    "@logIII\n",
    "def nowIII(request):\n",
    "    print('One positonal arg request: {}'.format(request))\n",
    "    print('2015-3-25')"
   ]
  },
  {
   "cell_type": "code",
   "execution_count": 51,
   "metadata": {
    "scrolled": true
   },
   "outputs": [
    {
     "name": "stdout",
     "output_type": "stream",
     "text": [
      "III call nowIII():\n",
      "One positonal arg request: My name is ArgRequest!\n",
      "2015-3-25\n"
     ]
    }
   ],
   "source": [
    "nowIII('My name is ArgRequest!')"
   ]
  },
  {
   "cell_type": "code",
   "execution_count": 58,
   "metadata": {
    "collapsed": true
   },
   "outputs": [],
   "source": [
    "def logIV(func, handler = 'ArgTwo'):\n",
    "    print(handler)\n",
    "    def my_now(argI):\n",
    "        print('IV call %s():' % func.__name__)\n",
    "        return func(argI)\n",
    "    return my_now\n",
    "#注意，经过装饰器修饰后，返回的是wrapper(这里我定义的是my_now)，这个wrapper仍然用被装饰器修饰之前的函数的名字"
   ]
  },
  {
   "cell_type": "code",
   "execution_count": 59,
   "metadata": {},
   "outputs": [
    {
     "name": "stdout",
     "output_type": "stream",
     "text": [
      "ArgTwo\n"
     ]
    }
   ],
   "source": [
    "@logIV\n",
    "def nowIV(request):\n",
    "    print('One positonal arg request: {}'.format(request))\n",
    "    print('2015-3-25')"
   ]
  },
  {
   "cell_type": "code",
   "execution_count": 60,
   "metadata": {
    "scrolled": true
   },
   "outputs": [
    {
     "name": "stdout",
     "output_type": "stream",
     "text": [
      "IV call nowIV():\n",
      "One positonal arg request: My name is ArgRequest!\n",
      "2015-3-25\n"
     ]
    }
   ],
   "source": [
    "nowIV('My name is ArgRequest!')"
   ]
  },
  {
   "cell_type": "code",
   "execution_count": 63,
   "metadata": {
    "collapsed": true
   },
   "outputs": [],
   "source": [
    "#下面这几条足以展示decorator的语法规则，要想给decorator传参数，语法上要求多一层嵌套\n",
    "#猜测也是多半为了避免多层函数嵌套，参数传递出现混淆不清\n",
    "#最后几个cell展示了传参decorator的写法\n",
    "def logV(func, argthree, handler = 'ArgTwo'):\n",
    "    print(handler)\n",
    "    def my_now(argI):\n",
    "        print('V call %s():' % func.__name__)\n",
    "        return func(argI)\n",
    "    return my_now"
   ]
  },
  {
   "cell_type": "code",
   "execution_count": 67,
   "metadata": {},
   "outputs": [
    {
     "ename": "TypeError",
     "evalue": "logV() missing 1 required positional argument: 'argthree'",
     "output_type": "error",
     "traceback": [
      "\u001b[1;31m---------------------------------------------------------------------------\u001b[0m",
      "\u001b[1;31mTypeError\u001b[0m                                 Traceback (most recent call last)",
      "\u001b[1;32m<ipython-input-67-3dabcc249532>\u001b[0m in \u001b[0;36m<module>\u001b[1;34m()\u001b[0m\n\u001b[1;32m----> 1\u001b[1;33m \u001b[1;33m@\u001b[0m\u001b[0mlogV\u001b[0m\u001b[1;33m(\u001b[0m\u001b[1;34m'My name is argthree. '\u001b[0m\u001b[1;33m)\u001b[0m\u001b[1;33m\u001b[0m\u001b[0m\n\u001b[0m\u001b[0;32m      2\u001b[0m \u001b[1;32mdef\u001b[0m \u001b[0mnowV\u001b[0m\u001b[1;33m(\u001b[0m\u001b[0mrequest\u001b[0m\u001b[1;33m)\u001b[0m\u001b[1;33m:\u001b[0m\u001b[1;33m\u001b[0m\u001b[0m\n\u001b[0;32m      3\u001b[0m     \u001b[0mprint\u001b[0m\u001b[1;33m(\u001b[0m\u001b[1;34m'One positonal arg request: {}'\u001b[0m\u001b[1;33m.\u001b[0m\u001b[0mformat\u001b[0m\u001b[1;33m(\u001b[0m\u001b[0mrequest\u001b[0m\u001b[1;33m)\u001b[0m\u001b[1;33m)\u001b[0m\u001b[1;33m\u001b[0m\u001b[0m\n\u001b[0;32m      4\u001b[0m     \u001b[0mprint\u001b[0m\u001b[1;33m(\u001b[0m\u001b[1;34m'2015-3-25'\u001b[0m\u001b[1;33m)\u001b[0m\u001b[1;33m\u001b[0m\u001b[0m\n",
      "\u001b[1;31mTypeError\u001b[0m: logV() missing 1 required positional argument: 'argthree'"
     ]
    }
   ],
   "source": [
    "@logV('My name is argthree. ')\n",
    "def nowV(request):\n",
    "    print('One positonal arg request: {}'.format(request))\n",
    "    print('2015-3-25')"
   ]
  },
  {
   "cell_type": "code",
   "execution_count": 68,
   "metadata": {},
   "outputs": [
    {
     "name": "stdout",
     "output_type": "stream",
     "text": [
      "ArgTwo\n"
     ]
    },
    {
     "ename": "AttributeError",
     "evalue": "'str' object has no attribute '__name__'",
     "output_type": "error",
     "traceback": [
      "\u001b[1;31m---------------------------------------------------------------------------\u001b[0m",
      "\u001b[1;31mAttributeError\u001b[0m                            Traceback (most recent call last)",
      "\u001b[1;32m<ipython-input-68-e2b59f04c3f4>\u001b[0m in \u001b[0;36m<module>\u001b[1;34m()\u001b[0m\n\u001b[1;32m----> 1\u001b[1;33m \u001b[1;33m@\u001b[0m\u001b[0mlogV\u001b[0m\u001b[1;33m(\u001b[0m\u001b[1;34m'My name is argthree. '\u001b[0m\u001b[1;33m,\u001b[0m\u001b[1;34m'Argfour'\u001b[0m\u001b[1;33m)\u001b[0m\u001b[1;33m\u001b[0m\u001b[0m\n\u001b[0m\u001b[0;32m      2\u001b[0m \u001b[1;32mdef\u001b[0m \u001b[0mnowV\u001b[0m\u001b[1;33m(\u001b[0m\u001b[0mrequest\u001b[0m\u001b[1;33m)\u001b[0m\u001b[1;33m:\u001b[0m\u001b[1;33m\u001b[0m\u001b[0m\n\u001b[0;32m      3\u001b[0m     \u001b[0mprint\u001b[0m\u001b[1;33m(\u001b[0m\u001b[1;34m'One positonal arg request: {}'\u001b[0m\u001b[1;33m.\u001b[0m\u001b[0mformat\u001b[0m\u001b[1;33m(\u001b[0m\u001b[0mrequest\u001b[0m\u001b[1;33m)\u001b[0m\u001b[1;33m)\u001b[0m\u001b[1;33m\u001b[0m\u001b[0m\n\u001b[0;32m      4\u001b[0m     \u001b[0mprint\u001b[0m\u001b[1;33m(\u001b[0m\u001b[1;34m'2015-3-25'\u001b[0m\u001b[1;33m)\u001b[0m\u001b[1;33m\u001b[0m\u001b[0m\n",
      "\u001b[1;32m<ipython-input-63-80ac55356739>\u001b[0m in \u001b[0;36mmy_now\u001b[1;34m(argI)\u001b[0m\n\u001b[0;32m      2\u001b[0m     \u001b[0mprint\u001b[0m\u001b[1;33m(\u001b[0m\u001b[0mhandler\u001b[0m\u001b[1;33m)\u001b[0m\u001b[1;33m\u001b[0m\u001b[0m\n\u001b[0;32m      3\u001b[0m     \u001b[1;32mdef\u001b[0m \u001b[0mmy_now\u001b[0m\u001b[1;33m(\u001b[0m\u001b[0margI\u001b[0m\u001b[1;33m)\u001b[0m\u001b[1;33m:\u001b[0m\u001b[1;33m\u001b[0m\u001b[0m\n\u001b[1;32m----> 4\u001b[1;33m         \u001b[0mprint\u001b[0m\u001b[1;33m(\u001b[0m\u001b[1;34m'V call %s():'\u001b[0m \u001b[1;33m%\u001b[0m \u001b[0mfunc\u001b[0m\u001b[1;33m.\u001b[0m\u001b[0m__name__\u001b[0m\u001b[1;33m)\u001b[0m\u001b[1;33m\u001b[0m\u001b[0m\n\u001b[0m\u001b[0;32m      5\u001b[0m         \u001b[1;32mreturn\u001b[0m \u001b[0mfunc\u001b[0m\u001b[1;33m(\u001b[0m\u001b[0margI\u001b[0m\u001b[1;33m)\u001b[0m\u001b[1;33m\u001b[0m\u001b[0m\n\u001b[0;32m      6\u001b[0m     \u001b[1;32mreturn\u001b[0m \u001b[0mmy_now\u001b[0m\u001b[1;33m\u001b[0m\u001b[0m\n",
      "\u001b[1;31mAttributeError\u001b[0m: 'str' object has no attribute '__name__'"
     ]
    }
   ],
   "source": [
    "@logV('My name is argthree. ','Argfour')\n",
    "def nowV(request):\n",
    "    print('One positonal arg request: {}'.format(request))\n",
    "    print('2015-3-25')"
   ]
  },
  {
   "cell_type": "code",
   "execution_count": 69,
   "metadata": {
    "collapsed": true
   },
   "outputs": [],
   "source": [
    "def logVI(func, handler = 'ArgTwo'):\n",
    "    print(handler)\n",
    "    def my_now(argI):\n",
    "        print('VI call %s():' % func.__name__)\n",
    "        return func(argI)\n",
    "    return my_now\n",
    "#注意，经过装饰器修饰后，返回的是wrapper(这里我定义的是my_now)，这个wrapper仍然用被装饰器修饰之前的函数的名字"
   ]
  },
  {
   "cell_type": "code",
   "execution_count": 70,
   "metadata": {},
   "outputs": [
    {
     "ename": "TypeError",
     "evalue": "logVI() missing 1 required positional argument: 'func'",
     "output_type": "error",
     "traceback": [
      "\u001b[1;31m---------------------------------------------------------------------------\u001b[0m",
      "\u001b[1;31mTypeError\u001b[0m                                 Traceback (most recent call last)",
      "\u001b[1;32m<ipython-input-70-3c69a414725d>\u001b[0m in \u001b[0;36m<module>\u001b[1;34m()\u001b[0m\n\u001b[1;32m----> 1\u001b[1;33m \u001b[1;33m@\u001b[0m\u001b[0mlogVI\u001b[0m\u001b[1;33m(\u001b[0m\u001b[0mhandler\u001b[0m \u001b[1;33m=\u001b[0m \u001b[1;34m'Mybe KeyWord is OK '\u001b[0m\u001b[1;33m)\u001b[0m\u001b[1;33m\u001b[0m\u001b[0m\n\u001b[0m\u001b[0;32m      2\u001b[0m \u001b[1;32mdef\u001b[0m \u001b[0mnowVI\u001b[0m\u001b[1;33m(\u001b[0m\u001b[0mrequest\u001b[0m\u001b[1;33m)\u001b[0m\u001b[1;33m:\u001b[0m\u001b[1;33m\u001b[0m\u001b[0m\n\u001b[0;32m      3\u001b[0m     \u001b[0mprint\u001b[0m\u001b[1;33m(\u001b[0m\u001b[1;34m'One positonal arg request: {}'\u001b[0m\u001b[1;33m.\u001b[0m\u001b[0mformat\u001b[0m\u001b[1;33m(\u001b[0m\u001b[0mrequest\u001b[0m\u001b[1;33m)\u001b[0m\u001b[1;33m)\u001b[0m\u001b[1;33m\u001b[0m\u001b[0m\n\u001b[0;32m      4\u001b[0m     \u001b[0mprint\u001b[0m\u001b[1;33m(\u001b[0m\u001b[1;34m'2015-3-25'\u001b[0m\u001b[1;33m)\u001b[0m\u001b[1;33m\u001b[0m\u001b[0m\n",
      "\u001b[1;31mTypeError\u001b[0m: logVI() missing 1 required positional argument: 'func'"
     ]
    }
   ],
   "source": [
    "@logVI(handler = 'Mybe KeyWord is OK ')\n",
    "def nowVI(request):\n",
    "    print('One positonal arg request: {}'.format(request))\n",
    "    print('2015-3-25')"
   ]
  },
  {
   "cell_type": "code",
   "execution_count": 71,
   "metadata": {
    "collapsed": true
   },
   "outputs": [],
   "source": [
    "#和两层嵌套的decorator相比，3层嵌套的效果是这样的：\n",
    "#now = logVI('execute')(now)\n",
    "#我们来剖析上面的语句，首先执行logIV('execute')，返回的是decorator函数，再调用返回的函数,参数是now函数，\n",
    "#返回值最终是wrapper函数\n",
    "def logVI(text):\n",
    "    def decorator(func):\n",
    "        def wrapper(*args, **kw):\n",
    "            print('VI call')\n",
    "            print('%s %s():' % (text, func.__name__))\n",
    "            return func(*args, **kw)\n",
    "        return wrapper\n",
    "    return decorator"
   ]
  },
  {
   "cell_type": "code",
   "execution_count": 76,
   "metadata": {},
   "outputs": [],
   "source": [
    "@logVI('Execute')\n",
    "def nowVI(request):\n",
    "    print('One positonal arg request: {}'.format(request))\n",
    "    print('2015-3-25')"
   ]
  },
  {
   "cell_type": "code",
   "execution_count": 77,
   "metadata": {
    "scrolled": true
   },
   "outputs": [
    {
     "name": "stdout",
     "output_type": "stream",
     "text": [
      "VI call\n",
      "Execute nowVI():\n",
      "One positonal arg request: My name is ArgRequest!\n",
      "2015-3-25\n"
     ]
    }
   ],
   "source": [
    "nowVI('My name is ArgRequest!')"
   ]
  }
 ],
 "metadata": {
  "kernelspec": {
   "display_name": "Python 3",
   "language": "python",
   "name": "python3"
  },
  "language_info": {
   "codemirror_mode": {
    "name": "ipython",
    "version": 3
   },
   "file_extension": ".py",
   "mimetype": "text/x-python",
   "name": "python",
   "nbconvert_exporter": "python",
   "pygments_lexer": "ipython3",
   "version": "3.4.4"
  },
  "toc": {
   "colors": {
    "hover_highlight": "#DAA520",
    "navigate_num": "#000000",
    "navigate_text": "#333333",
    "running_highlight": "#FF0000",
    "selected_highlight": "#FFD700",
    "sidebar_border": "#EEEEEE",
    "wrapper_background": "#FFFFFF"
   },
   "moveMenuLeft": true,
   "nav_menu": {
    "height": "4px",
    "width": "254px"
   },
   "navigate_menu": true,
   "number_sections": true,
   "sideBar": true,
   "threshold": 4,
   "toc_cell": false,
   "toc_section_display": "block",
   "toc_window_display": false,
   "widenNotebook": false
  }
 },
 "nbformat": 4,
 "nbformat_minor": 2
}
